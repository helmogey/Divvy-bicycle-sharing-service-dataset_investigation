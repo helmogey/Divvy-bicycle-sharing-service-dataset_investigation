{
 "cells": [
  {
   "cell_type": "markdown",
   "metadata": {},
   "source": [
    "# (Divvy bicycle sharing service Data)\n",
    "## by (Hany Aly Elmogey)\n",
    "\n",
    "## Preliminary Wrangling\n",
    "\n",
    "> In this notebook will explore the bike sharing data which contains trip duration, usertype (subscriber or customer) start station, end station, and Date of the trip."
   ]
  },
  {
   "cell_type": "markdown",
   "metadata": {},
   "source": [
    "### Downloading the dataset"
   ]
  },
  {
   "cell_type": "code",
   "execution_count": 72,
   "metadata": {},
   "outputs": [
    {
     "name": "stdout",
     "output_type": "stream",
     "text": [
      "--2021-01-05 11:08:30--  https://divvy-tripdata.s3.amazonaws.com/Divvy_Stations_Trips_2014_Q1Q2.zip\n",
      "Resolving divvy-tripdata.s3.amazonaws.com (divvy-tripdata.s3.amazonaws.com)... 52.217.105.204\n",
      "Connecting to divvy-tripdata.s3.amazonaws.com (divvy-tripdata.s3.amazonaws.com)|52.217.105.204|:443... connected.\n",
      "HTTP request sent, awaiting response... 200 OK\n",
      "Length: 17997624 (17M) [application/zip]\n",
      "Saving to: ‘Divvy_Stations_Trips_2014_Q1Q2.zip’\n",
      "\n",
      "Divvy_Stations_Trip 100%[===================>]  17.16M   946KB/s    in 13s     \n",
      "\n",
      "2021-01-05 11:08:44 (1.31 MB/s) - ‘Divvy_Stations_Trips_2014_Q1Q2.zip’ saved [17997624/17997624]\n",
      "\n",
      "--2021-01-05 11:08:45--  https://divvy-tripdata.s3.amazonaws.com/Divvy_Stations_Trips_2014_Q3Q4.zip\n",
      "Resolving divvy-tripdata.s3.amazonaws.com (divvy-tripdata.s3.amazonaws.com)... 52.216.144.251\n",
      "Connecting to divvy-tripdata.s3.amazonaws.com (divvy-tripdata.s3.amazonaws.com)|52.216.144.251|:443... connected.\n",
      "HTTP request sent, awaiting response... 200 OK\n",
      "Length: 30838872 (29M) [application/zip]\n",
      "Saving to: ‘Divvy_Stations_Trips_2014_Q3Q4.zip’\n",
      "\n",
      "Divvy_Stations_Trip 100%[===================>]  29.41M   962KB/s    in 20s     \n",
      "\n",
      "2021-01-05 11:09:05 (1.47 MB/s) - ‘Divvy_Stations_Trips_2014_Q3Q4.zip’ saved [30838872/30838872]\n",
      "\n",
      "--2021-01-05 11:09:06--  https://divvy-tripdata.s3.amazonaws.com/Divvy_Trips_2015-Q1Q2.zip\n",
      "Resolving divvy-tripdata.s3.amazonaws.com (divvy-tripdata.s3.amazonaws.com)... 52.217.13.28\n",
      "Connecting to divvy-tripdata.s3.amazonaws.com (divvy-tripdata.s3.amazonaws.com)|52.217.13.28|:443... connected.\n",
      "HTTP request sent, awaiting response... 200 OK\n",
      "Length: 22449725 (21M) [application/zip]\n",
      "Saving to: ‘Divvy_Trips_2015-Q1Q2.zip’\n",
      "\n",
      "Divvy_Trips_2015-Q1 100%[===================>]  21.41M  1.50MB/s    in 22s     \n",
      "\n",
      "2021-01-05 11:09:29 (1001 KB/s) - ‘Divvy_Trips_2015-Q1Q2.zip’ saved [22449725/22449725]\n",
      "\n",
      "--2021-01-05 11:09:29--  https://divvy-tripdata.s3.amazonaws.com/Divvy_Trips_2015_Q3Q4.zip\n",
      "Resolving divvy-tripdata.s3.amazonaws.com (divvy-tripdata.s3.amazonaws.com)... 52.216.243.108\n",
      "Connecting to divvy-tripdata.s3.amazonaws.com (divvy-tripdata.s3.amazonaws.com)|52.216.243.108|:443... connected.\n",
      "HTTP request sent, awaiting response... 200 OK\n",
      "Length: 43624437 (42M) [application/zip]\n",
      "Saving to: ‘Divvy_Trips_2015_Q3Q4.zip’\n",
      "\n",
      "Divvy_Trips_2015_Q3 100%[===================>]  41.60M   734KB/s    in 67s     \n",
      "\n",
      "2021-01-05 11:10:36 (638 KB/s) - ‘Divvy_Trips_2015_Q3Q4.zip’ saved [43624437/43624437]\n",
      "\n"
     ]
    }
   ],
   "source": [
    "import os\n",
    "import zipfile\n",
    "import shutil\n",
    "\n",
    "\n",
    "def download_files():\n",
    "    # This function is to download the datasets then take the used 6 files \n",
    "    \n",
    "    # Downloading the files\n",
    "    os.chdir(\"zip_folder\")\n",
    "    zip_files_names = os.listdir()\n",
    "    if \"Divvy_Stations_Trips_2014_Q1Q2.zip\" not in zip_files_names: \n",
    "        !wget https://divvy-tripdata.s3.amazonaws.com/Divvy_Stations_Trips_2014_Q1Q2.zip\n",
    "    if \"Divvy_Stations_Trips_2014_Q3Q4.zip\" not in zip_files_names: \n",
    "        !wget https://divvy-tripdata.s3.amazonaws.com/Divvy_Stations_Trips_2014_Q3Q4.zip\n",
    "    if \"Divvy_Trips_2015.zip\" not in zip_files_names: \n",
    "        !wget https://divvy-tripdata.s3.amazonaws.com/Divvy_Trips_2015-Q1Q2.zip\n",
    "    if \"Divvy_Trips_2015_Q3Q4.zip\" not in zip_files_names: \n",
    "        !wget https://divvy-tripdata.s3.amazonaws.com/Divvy_Trips_2015_Q3Q4.zip\n",
    "\n",
    "    zip_files_names = os.listdir()\n",
    "    \n",
    "    # List of the used files\n",
    "    file_name = [\"Divvy_Trips_2014_Q1Q2.csv\",\"Divvy_Trips_2015_08.csv\", \"Divvy_Trips_2015-Q1.csv\", \"Divvy_Trips_2015-Q2.csv\"]\n",
    "\n",
    "    # Unzipe the downloaded files\n",
    "    for file in zip_files_names:\n",
    "        with zipfile.ZipFile(file,\"r\") as zip_ref:\n",
    "            zip_ref.extractall()\n",
    "\n",
    "\n",
    "\n",
    "    os.chdir(\"..\")\n",
    "\n",
    "    # Moving the used 6 csv files to the main folder of the data\n",
    "    for file in file_name:\n",
    "        shutil.move('zip_folder/' + file, 'csv_files/' + file)\n",
    "\n",
    "\n",
    "    shutil.move(\"zip_folder/Divvy_Stations_Trips_2014_Q3Q4/Divvy_Trips_2014-Q3-07.csv\", 'csv_files/Divvy_Trips_2014-Q3-07.csv')\n",
    "    shutil.move(\"zip_folder/Divvy_Stations_Trips_2014_Q3Q4/Divvy_Trips_2014-Q4.csv\", 'csv_files/Divvy_Trips_2014-Q4.csv')\n",
    "    \n",
    "    # Deleting unnecessary files\n",
    "    shutil.rmtree(\"zip_folder\")\n",
    "    os.mkdir(\"zip_folder\")\n",
    "\n",
    "    \n",
    "# Uncomment the next line to download the files\n",
    "\n",
    "download_files()\n",
    "\n"
   ]
  },
  {
   "cell_type": "code",
   "execution_count": 73,
   "metadata": {},
   "outputs": [],
   "source": [
    "# import all packages and set plots to be embedded inline\n",
    "import numpy as np\n",
    "import pandas as pd\n",
    "import matplotlib.pyplot as plt\n",
    "import seaborn as sb\n",
    "\n",
    "%matplotlib inline"
   ]
  },
  {
   "cell_type": "code",
   "execution_count": 74,
   "metadata": {},
   "outputs": [],
   "source": [
    "files_path = \"csv_files/\"\n",
    "save_path = \"all_files_compined.csv\""
   ]
  },
  {
   "cell_type": "markdown",
   "metadata": {},
   "source": [
    "> Load in your dataset and describe its properties through the questions below.\n",
    "Try and motivate your exploration goals through this section."
   ]
  },
  {
   "cell_type": "code",
   "execution_count": 75,
   "metadata": {},
   "outputs": [],
   "source": [
    "\n",
    "\n",
    "\n",
    "def merge_csv_file(path,save_path):\n",
    "    # This function is to merge the used 6 csv files into one csv file\n",
    "    files = os.listdir(path)\n",
    "    df = pd.concat(pd.read_csv(path+f) for f in files)\n",
    "\n",
    "    df.to_csv(save_path,index=False,encoding= \"utf-8-sig\")\n",
    "              \n",
    "\n",
    "# Uncomment the next line to merge the files\n",
    "\n",
    "#merge_csv_file(files_path,save_path)\n",
    "\n",
    "\n",
    "\n"
   ]
  },
  {
   "cell_type": "code",
   "execution_count": 76,
   "metadata": {},
   "outputs": [],
   "source": [
    "\n",
    "df = pd.read_csv(save_path)\n",
    "\n"
   ]
  },
  {
   "cell_type": "code",
   "execution_count": 77,
   "metadata": {},
   "outputs": [
    {
     "data": {
      "text/html": [
       "<div>\n",
       "<style scoped>\n",
       "    .dataframe tbody tr th:only-of-type {\n",
       "        vertical-align: middle;\n",
       "    }\n",
       "\n",
       "    .dataframe tbody tr th {\n",
       "        vertical-align: top;\n",
       "    }\n",
       "\n",
       "    .dataframe thead th {\n",
       "        text-align: right;\n",
       "    }\n",
       "</style>\n",
       "<table border=\"1\" class=\"dataframe\">\n",
       "  <thead>\n",
       "    <tr style=\"text-align: right;\">\n",
       "      <th></th>\n",
       "      <th>trip_id</th>\n",
       "      <th>start_time</th>\n",
       "      <th>stop_time</th>\n",
       "      <th>bikeid</th>\n",
       "      <th>tripduration</th>\n",
       "      <th>from_station_id</th>\n",
       "      <th>from_station_name</th>\n",
       "      <th>to_station_id</th>\n",
       "      <th>to_station_name</th>\n",
       "      <th>usertype</th>\n",
       "      <th>gender</th>\n",
       "      <th>birthyear</th>\n",
       "    </tr>\n",
       "  </thead>\n",
       "  <tbody>\n",
       "    <tr>\n",
       "      <th>0</th>\n",
       "      <td>2886259</td>\n",
       "      <td>7/31/2014 23:56</td>\n",
       "      <td>8/1/2014 0:03</td>\n",
       "      <td>2602</td>\n",
       "      <td>386</td>\n",
       "      <td>291</td>\n",
       "      <td>Wells St &amp; Evergreen Ave</td>\n",
       "      <td>53</td>\n",
       "      <td>Wells St &amp; Erie St</td>\n",
       "      <td>Subscriber</td>\n",
       "      <td>Female</td>\n",
       "      <td>1979.0</td>\n",
       "    </tr>\n",
       "    <tr>\n",
       "      <th>1</th>\n",
       "      <td>2886258</td>\n",
       "      <td>7/31/2014 23:58</td>\n",
       "      <td>8/1/2014 0:07</td>\n",
       "      <td>2403</td>\n",
       "      <td>495</td>\n",
       "      <td>98</td>\n",
       "      <td>LaSalle St &amp; Washington St</td>\n",
       "      <td>106</td>\n",
       "      <td>State St &amp; Pearson St</td>\n",
       "      <td>Subscriber</td>\n",
       "      <td>Male</td>\n",
       "      <td>1974.0</td>\n",
       "    </tr>\n",
       "    <tr>\n",
       "      <th>2</th>\n",
       "      <td>2886257</td>\n",
       "      <td>7/31/2014 23:58</td>\n",
       "      <td>8/1/2014 2:10</td>\n",
       "      <td>669</td>\n",
       "      <td>7947</td>\n",
       "      <td>240</td>\n",
       "      <td>Sheridan Rd &amp; Irving Park Rd</td>\n",
       "      <td>240</td>\n",
       "      <td>Sheridan Rd &amp; Irving Park Rd</td>\n",
       "      <td>Customer</td>\n",
       "      <td>NaN</td>\n",
       "      <td>NaN</td>\n",
       "    </tr>\n",
       "    <tr>\n",
       "      <th>3</th>\n",
       "      <td>2886256</td>\n",
       "      <td>7/31/2014 23:58</td>\n",
       "      <td>8/1/2014 0:19</td>\n",
       "      <td>2431</td>\n",
       "      <td>1282</td>\n",
       "      <td>47</td>\n",
       "      <td>State St &amp; Kinzie St</td>\n",
       "      <td>14</td>\n",
       "      <td>Morgan St &amp; 18th St</td>\n",
       "      <td>Customer</td>\n",
       "      <td>NaN</td>\n",
       "      <td>NaN</td>\n",
       "    </tr>\n",
       "    <tr>\n",
       "      <th>4</th>\n",
       "      <td>2886255</td>\n",
       "      <td>7/31/2014 23:57</td>\n",
       "      <td>8/1/2014 2:10</td>\n",
       "      <td>2885</td>\n",
       "      <td>7972</td>\n",
       "      <td>240</td>\n",
       "      <td>Sheridan Rd &amp; Irving Park Rd</td>\n",
       "      <td>240</td>\n",
       "      <td>Sheridan Rd &amp; Irving Park Rd</td>\n",
       "      <td>Customer</td>\n",
       "      <td>NaN</td>\n",
       "      <td>NaN</td>\n",
       "    </tr>\n",
       "  </tbody>\n",
       "</table>\n",
       "</div>"
      ],
      "text/plain": [
       "   trip_id       start_time      stop_time  bikeid  tripduration  \\\n",
       "0  2886259  7/31/2014 23:56  8/1/2014 0:03    2602           386   \n",
       "1  2886258  7/31/2014 23:58  8/1/2014 0:07    2403           495   \n",
       "2  2886257  7/31/2014 23:58  8/1/2014 2:10     669          7947   \n",
       "3  2886256  7/31/2014 23:58  8/1/2014 0:19    2431          1282   \n",
       "4  2886255  7/31/2014 23:57  8/1/2014 2:10    2885          7972   \n",
       "\n",
       "   from_station_id             from_station_name  to_station_id  \\\n",
       "0              291      Wells St & Evergreen Ave             53   \n",
       "1               98    LaSalle St & Washington St            106   \n",
       "2              240  Sheridan Rd & Irving Park Rd            240   \n",
       "3               47          State St & Kinzie St             14   \n",
       "4              240  Sheridan Rd & Irving Park Rd            240   \n",
       "\n",
       "                to_station_name    usertype  gender  birthyear  \n",
       "0            Wells St & Erie St  Subscriber  Female     1979.0  \n",
       "1         State St & Pearson St  Subscriber    Male     1974.0  \n",
       "2  Sheridan Rd & Irving Park Rd    Customer     NaN        NaN  \n",
       "3           Morgan St & 18th St    Customer     NaN        NaN  \n",
       "4  Sheridan Rd & Irving Park Rd    Customer     NaN        NaN  "
      ]
     },
     "execution_count": 77,
     "metadata": {},
     "output_type": "execute_result"
    }
   ],
   "source": [
    "df.head()"
   ]
  },
  {
   "cell_type": "code",
   "execution_count": 78,
   "metadata": {},
   "outputs": [
    {
     "data": {
      "text/plain": [
       "(3345272, 12)"
      ]
     },
     "execution_count": 78,
     "metadata": {},
     "output_type": "execute_result"
    }
   ],
   "source": [
    "df.shape"
   ]
  },
  {
   "cell_type": "code",
   "execution_count": 79,
   "metadata": {},
   "outputs": [
    {
     "name": "stdout",
     "output_type": "stream",
     "text": [
      "columns are ['trip_id', 'start_time', 'stop_time', 'bikeid', 'tripduration', 'from_station_id', 'from_station_name', 'to_station_id', 'to_station_name', 'usertype', 'gender', 'birthyear']\n"
     ]
    }
   ],
   "source": [
    "print(\"columns are\",list(df))"
   ]
  },
  {
   "cell_type": "code",
   "execution_count": 80,
   "metadata": {},
   "outputs": [
    {
     "name": "stdout",
     "output_type": "stream",
     "text": [
      "<class 'pandas.core.frame.DataFrame'>\n",
      "RangeIndex: 3345272 entries, 0 to 3345271\n",
      "Data columns (total 12 columns):\n",
      " #   Column             Dtype  \n",
      "---  ------             -----  \n",
      " 0   trip_id            int64  \n",
      " 1   start_time         object \n",
      " 2   stop_time          object \n",
      " 3   bikeid             int64  \n",
      " 4   tripduration       int64  \n",
      " 5   from_station_id    int64  \n",
      " 6   from_station_name  object \n",
      " 7   to_station_id      int64  \n",
      " 8   to_station_name    object \n",
      " 9   usertype           object \n",
      " 10  gender             object \n",
      " 11  birthyear          float64\n",
      "dtypes: float64(1), int64(5), object(6)\n",
      "memory usage: 306.3+ MB\n"
     ]
    }
   ],
   "source": [
    "df.info()"
   ]
  },
  {
   "cell_type": "code",
   "execution_count": 81,
   "metadata": {},
   "outputs": [
    {
     "data": {
      "text/html": [
       "<div>\n",
       "<style scoped>\n",
       "    .dataframe tbody tr th:only-of-type {\n",
       "        vertical-align: middle;\n",
       "    }\n",
       "\n",
       "    .dataframe tbody tr th {\n",
       "        vertical-align: top;\n",
       "    }\n",
       "\n",
       "    .dataframe thead th {\n",
       "        text-align: right;\n",
       "    }\n",
       "</style>\n",
       "<table border=\"1\" class=\"dataframe\">\n",
       "  <thead>\n",
       "    <tr style=\"text-align: right;\">\n",
       "      <th></th>\n",
       "      <th>trip_id</th>\n",
       "      <th>bikeid</th>\n",
       "      <th>tripduration</th>\n",
       "      <th>from_station_id</th>\n",
       "      <th>to_station_id</th>\n",
       "      <th>birthyear</th>\n",
       "    </tr>\n",
       "  </thead>\n",
       "  <tbody>\n",
       "    <tr>\n",
       "      <th>count</th>\n",
       "      <td>3.345272e+06</td>\n",
       "      <td>3.345272e+06</td>\n",
       "      <td>3.345272e+06</td>\n",
       "      <td>3.345272e+06</td>\n",
       "      <td>3.345272e+06</td>\n",
       "      <td>2.311258e+06</td>\n",
       "    </tr>\n",
       "    <tr>\n",
       "      <th>mean</th>\n",
       "      <td>4.069538e+06</td>\n",
       "      <td>1.938001e+03</td>\n",
       "      <td>1.032456e+03</td>\n",
       "      <td>1.654179e+02</td>\n",
       "      <td>1.653819e+02</td>\n",
       "      <td>1.978957e+03</td>\n",
       "    </tr>\n",
       "    <tr>\n",
       "      <th>std</th>\n",
       "      <td>1.854498e+06</td>\n",
       "      <td>1.209215e+03</td>\n",
       "      <td>2.023831e+03</td>\n",
       "      <td>1.075708e+02</td>\n",
       "      <td>1.078348e+02</td>\n",
       "      <td>1.050792e+01</td>\n",
       "    </tr>\n",
       "    <tr>\n",
       "      <th>min</th>\n",
       "      <td>1.109420e+06</td>\n",
       "      <td>1.000000e+00</td>\n",
       "      <td>6.000000e+01</td>\n",
       "      <td>2.000000e+00</td>\n",
       "      <td>2.000000e+00</td>\n",
       "      <td>1.898000e+03</td>\n",
       "    </tr>\n",
       "    <tr>\n",
       "      <th>25%</th>\n",
       "      <td>2.266495e+06</td>\n",
       "      <td>9.460000e+02</td>\n",
       "      <td>4.240000e+02</td>\n",
       "      <td>7.400000e+01</td>\n",
       "      <td>7.400000e+01</td>\n",
       "      <td>1.973000e+03</td>\n",
       "    </tr>\n",
       "    <tr>\n",
       "      <th>50%</th>\n",
       "      <td>4.297934e+06</td>\n",
       "      <td>1.854000e+03</td>\n",
       "      <td>7.320000e+02</td>\n",
       "      <td>1.530000e+02</td>\n",
       "      <td>1.530000e+02</td>\n",
       "      <td>1.982000e+03</td>\n",
       "    </tr>\n",
       "    <tr>\n",
       "      <th>75%</th>\n",
       "      <td>5.511502e+06</td>\n",
       "      <td>2.736000e+03</td>\n",
       "      <td>1.220000e+03</td>\n",
       "      <td>2.540000e+02</td>\n",
       "      <td>2.540000e+02</td>\n",
       "      <td>1.987000e+03</td>\n",
       "    </tr>\n",
       "    <tr>\n",
       "      <th>max</th>\n",
       "      <td>7.221407e+06</td>\n",
       "      <td>4.837000e+03</td>\n",
       "      <td>8.639200e+04</td>\n",
       "      <td>5.110000e+02</td>\n",
       "      <td>5.110000e+02</td>\n",
       "      <td>1.999000e+03</td>\n",
       "    </tr>\n",
       "  </tbody>\n",
       "</table>\n",
       "</div>"
      ],
      "text/plain": [
       "            trip_id        bikeid  tripduration  from_station_id  \\\n",
       "count  3.345272e+06  3.345272e+06  3.345272e+06     3.345272e+06   \n",
       "mean   4.069538e+06  1.938001e+03  1.032456e+03     1.654179e+02   \n",
       "std    1.854498e+06  1.209215e+03  2.023831e+03     1.075708e+02   \n",
       "min    1.109420e+06  1.000000e+00  6.000000e+01     2.000000e+00   \n",
       "25%    2.266495e+06  9.460000e+02  4.240000e+02     7.400000e+01   \n",
       "50%    4.297934e+06  1.854000e+03  7.320000e+02     1.530000e+02   \n",
       "75%    5.511502e+06  2.736000e+03  1.220000e+03     2.540000e+02   \n",
       "max    7.221407e+06  4.837000e+03  8.639200e+04     5.110000e+02   \n",
       "\n",
       "       to_station_id     birthyear  \n",
       "count   3.345272e+06  2.311258e+06  \n",
       "mean    1.653819e+02  1.978957e+03  \n",
       "std     1.078348e+02  1.050792e+01  \n",
       "min     2.000000e+00  1.898000e+03  \n",
       "25%     7.400000e+01  1.973000e+03  \n",
       "50%     1.530000e+02  1.982000e+03  \n",
       "75%     2.540000e+02  1.987000e+03  \n",
       "max     5.110000e+02  1.999000e+03  "
      ]
     },
     "execution_count": 81,
     "metadata": {},
     "output_type": "execute_result"
    }
   ],
   "source": [
    "df.describe()"
   ]
  },
  {
   "cell_type": "markdown",
   "metadata": {},
   "source": [
    "### Checking for nulls and nans"
   ]
  },
  {
   "cell_type": "code",
   "execution_count": 82,
   "metadata": {},
   "outputs": [
    {
     "data": {
      "text/plain": [
       "trip_id                    0\n",
       "start_time                 0\n",
       "stop_time                  0\n",
       "bikeid                     0\n",
       "tripduration               0\n",
       "from_station_id            0\n",
       "from_station_name          0\n",
       "to_station_id              0\n",
       "to_station_name            0\n",
       "usertype                   0\n",
       "gender               1034094\n",
       "birthyear            1034014\n",
       "dtype: int64"
      ]
     },
     "execution_count": 82,
     "metadata": {},
     "output_type": "execute_result"
    }
   ],
   "source": [
    "df.isnull().sum()"
   ]
  },
  {
   "cell_type": "code",
   "execution_count": 83,
   "metadata": {},
   "outputs": [
    {
     "data": {
      "text/plain": [
       "Male      1749979\n",
       "Female     561199\n",
       "Name: gender, dtype: int64"
      ]
     },
     "execution_count": 83,
     "metadata": {},
     "output_type": "execute_result"
    }
   ],
   "source": [
    "df[\"gender\"].value_counts()"
   ]
  },
  {
   "cell_type": "markdown",
   "metadata": {},
   "source": [
    "### 1 million is too big but we can.t compancate male and female so will remove nulls and thats why i merged many files as we have now almost 3 million so even after removing we will still have enough records "
   ]
  },
  {
   "cell_type": "code",
   "execution_count": 84,
   "metadata": {},
   "outputs": [],
   "source": [
    "df.dropna(axis = 0,inplace = True)"
   ]
  },
  {
   "cell_type": "code",
   "execution_count": 85,
   "metadata": {},
   "outputs": [
    {
     "data": {
      "text/plain": [
       "trip_id              0\n",
       "start_time           0\n",
       "stop_time            0\n",
       "bikeid               0\n",
       "tripduration         0\n",
       "from_station_id      0\n",
       "from_station_name    0\n",
       "to_station_id        0\n",
       "to_station_name      0\n",
       "usertype             0\n",
       "gender               0\n",
       "birthyear            0\n",
       "dtype: int64"
      ]
     },
     "execution_count": 85,
     "metadata": {},
     "output_type": "execute_result"
    }
   ],
   "source": [
    "df.isnull().sum()"
   ]
  },
  {
   "cell_type": "code",
   "execution_count": 86,
   "metadata": {},
   "outputs": [
    {
     "data": {
      "text/plain": [
       "(2311129, 12)"
      ]
     },
     "execution_count": 86,
     "metadata": {},
     "output_type": "execute_result"
    }
   ],
   "source": [
    "df.shape"
   ]
  },
  {
   "cell_type": "code",
   "execution_count": 87,
   "metadata": {},
   "outputs": [],
   "source": [
    "# a function that creates columns for year and month and day that are extracted from the start_time and end_time\n",
    "def get_year_month_day(df):\n",
    "    df.start_time = pd.to_datetime(df.start_time)\n",
    "    df[\"S_Day\"] = df.start_time.dt.strftime(\"%A\")\n",
    "    df[\"S_Year\"] = df.start_time.dt.strftime(\"%Y\")\n",
    "    df[\"S_Month\"] = df.start_time.dt.strftime(\"%B\")\n",
    "\n",
    "    df.stop_time = pd.to_datetime(df.stop_time)\n",
    "    df[\"E_Day\"] = df.stop_time.dt.strftime(\"%A\")\n",
    "    df[\"E_Year\"] = df.stop_time.dt.strftime(\"%Y\")\n",
    "    df[\"E_Month\"] = df.stop_time.dt.strftime(\"%B\")\n",
    "    \n",
    "    \n",
    "    week_days = ['Monday','Tuesday','Wednesday','Thursday','Friday','Saturday', 'Sunday']\n",
    "    df['S_Day'] = pd.Categorical(df['S_Day'], categories=week_days,ordered=True)\n",
    "\n",
    "    df['E_Day'] = pd.Categorical(df['E_Day'], categories=week_days,ordered=True)\n",
    "\n",
    "\n",
    "    return df\n"
   ]
  },
  {
   "cell_type": "code",
   "execution_count": 88,
   "metadata": {},
   "outputs": [],
   "source": [
    "df = get_year_month_day(df)"
   ]
  },
  {
   "cell_type": "markdown",
   "metadata": {},
   "source": [
    "### From the starttime features i created S_Day ( Start day ), S_Year, S_Month and also for the stoptime"
   ]
  },
  {
   "cell_type": "code",
   "execution_count": 89,
   "metadata": {},
   "outputs": [
    {
     "data": {
      "text/html": [
       "<div>\n",
       "<style scoped>\n",
       "    .dataframe tbody tr th:only-of-type {\n",
       "        vertical-align: middle;\n",
       "    }\n",
       "\n",
       "    .dataframe tbody tr th {\n",
       "        vertical-align: top;\n",
       "    }\n",
       "\n",
       "    .dataframe thead th {\n",
       "        text-align: right;\n",
       "    }\n",
       "</style>\n",
       "<table border=\"1\" class=\"dataframe\">\n",
       "  <thead>\n",
       "    <tr style=\"text-align: right;\">\n",
       "      <th></th>\n",
       "      <th>trip_id</th>\n",
       "      <th>start_time</th>\n",
       "      <th>stop_time</th>\n",
       "      <th>bikeid</th>\n",
       "      <th>tripduration</th>\n",
       "      <th>from_station_id</th>\n",
       "      <th>from_station_name</th>\n",
       "      <th>to_station_id</th>\n",
       "      <th>to_station_name</th>\n",
       "      <th>usertype</th>\n",
       "      <th>gender</th>\n",
       "      <th>birthyear</th>\n",
       "      <th>S_Day</th>\n",
       "      <th>S_Year</th>\n",
       "      <th>S_Month</th>\n",
       "      <th>E_Day</th>\n",
       "      <th>E_Year</th>\n",
       "      <th>E_Month</th>\n",
       "    </tr>\n",
       "  </thead>\n",
       "  <tbody>\n",
       "    <tr>\n",
       "      <th>2013420</th>\n",
       "      <td>4413164</td>\n",
       "      <td>2014-12-31 23:46:00</td>\n",
       "      <td>2015-01-01 00:37:00</td>\n",
       "      <td>2563</td>\n",
       "      <td>3084</td>\n",
       "      <td>168</td>\n",
       "      <td>Michigan Ave &amp; 14th St</td>\n",
       "      <td>168</td>\n",
       "      <td>Michigan Ave &amp; 14th St</td>\n",
       "      <td>Subscriber</td>\n",
       "      <td>Male</td>\n",
       "      <td>1987.0</td>\n",
       "      <td>Wednesday</td>\n",
       "      <td>2014</td>\n",
       "      <td>December</td>\n",
       "      <td>Thursday</td>\n",
       "      <td>2015</td>\n",
       "      <td>January</td>\n",
       "    </tr>\n",
       "    <tr>\n",
       "      <th>2013421</th>\n",
       "      <td>4413163</td>\n",
       "      <td>2014-12-31 23:44:00</td>\n",
       "      <td>2015-01-01 00:10:00</td>\n",
       "      <td>389</td>\n",
       "      <td>1570</td>\n",
       "      <td>43</td>\n",
       "      <td>Michigan Ave &amp; Washington St</td>\n",
       "      <td>163</td>\n",
       "      <td>Damen Ave &amp; Clybourn Ave</td>\n",
       "      <td>Subscriber</td>\n",
       "      <td>Male</td>\n",
       "      <td>1983.0</td>\n",
       "      <td>Wednesday</td>\n",
       "      <td>2014</td>\n",
       "      <td>December</td>\n",
       "      <td>Thursday</td>\n",
       "      <td>2015</td>\n",
       "      <td>January</td>\n",
       "    </tr>\n",
       "  </tbody>\n",
       "</table>\n",
       "</div>"
      ],
      "text/plain": [
       "         trip_id          start_time           stop_time  bikeid  \\\n",
       "2013420  4413164 2014-12-31 23:46:00 2015-01-01 00:37:00    2563   \n",
       "2013421  4413163 2014-12-31 23:44:00 2015-01-01 00:10:00     389   \n",
       "\n",
       "         tripduration  from_station_id             from_station_name  \\\n",
       "2013420          3084              168        Michigan Ave & 14th St   \n",
       "2013421          1570               43  Michigan Ave & Washington St   \n",
       "\n",
       "         to_station_id           to_station_name    usertype gender  \\\n",
       "2013420            168    Michigan Ave & 14th St  Subscriber   Male   \n",
       "2013421            163  Damen Ave & Clybourn Ave  Subscriber   Male   \n",
       "\n",
       "         birthyear      S_Day S_Year   S_Month     E_Day E_Year  E_Month  \n",
       "2013420     1987.0  Wednesday   2014  December  Thursday   2015  January  \n",
       "2013421     1983.0  Wednesday   2014  December  Thursday   2015  January  "
      ]
     },
     "execution_count": 89,
     "metadata": {},
     "output_type": "execute_result"
    }
   ],
   "source": [
    "df[df.E_Year != df.S_Year]"
   ]
  },
  {
   "cell_type": "markdown",
   "metadata": {},
   "source": [
    "### Logic they started at the end of the year just before 12 am"
   ]
  },
  {
   "cell_type": "code",
   "execution_count": 90,
   "metadata": {},
   "outputs": [
    {
     "data": {
      "text/html": [
       "<div>\n",
       "<style scoped>\n",
       "    .dataframe tbody tr th:only-of-type {\n",
       "        vertical-align: middle;\n",
       "    }\n",
       "\n",
       "    .dataframe tbody tr th {\n",
       "        vertical-align: top;\n",
       "    }\n",
       "\n",
       "    .dataframe thead th {\n",
       "        text-align: right;\n",
       "    }\n",
       "</style>\n",
       "<table border=\"1\" class=\"dataframe\">\n",
       "  <thead>\n",
       "    <tr style=\"text-align: right;\">\n",
       "      <th></th>\n",
       "      <th>trip_id</th>\n",
       "      <th>start_time</th>\n",
       "      <th>stop_time</th>\n",
       "      <th>bikeid</th>\n",
       "      <th>tripduration</th>\n",
       "      <th>from_station_id</th>\n",
       "      <th>from_station_name</th>\n",
       "      <th>to_station_id</th>\n",
       "      <th>to_station_name</th>\n",
       "      <th>usertype</th>\n",
       "      <th>gender</th>\n",
       "      <th>birthyear</th>\n",
       "      <th>S_Day</th>\n",
       "      <th>S_Year</th>\n",
       "      <th>S_Month</th>\n",
       "      <th>E_Day</th>\n",
       "      <th>E_Year</th>\n",
       "      <th>E_Month</th>\n",
       "    </tr>\n",
       "  </thead>\n",
       "  <tbody>\n",
       "    <tr>\n",
       "      <th>0</th>\n",
       "      <td>2886259</td>\n",
       "      <td>2014-07-31 23:56:00</td>\n",
       "      <td>2014-08-01 00:03:00</td>\n",
       "      <td>2602</td>\n",
       "      <td>386</td>\n",
       "      <td>291</td>\n",
       "      <td>Wells St &amp; Evergreen Ave</td>\n",
       "      <td>53</td>\n",
       "      <td>Wells St &amp; Erie St</td>\n",
       "      <td>Subscriber</td>\n",
       "      <td>Female</td>\n",
       "      <td>1979.0</td>\n",
       "      <td>Thursday</td>\n",
       "      <td>2014</td>\n",
       "      <td>July</td>\n",
       "      <td>Friday</td>\n",
       "      <td>2014</td>\n",
       "      <td>August</td>\n",
       "    </tr>\n",
       "    <tr>\n",
       "      <th>1</th>\n",
       "      <td>2886258</td>\n",
       "      <td>2014-07-31 23:58:00</td>\n",
       "      <td>2014-08-01 00:07:00</td>\n",
       "      <td>2403</td>\n",
       "      <td>495</td>\n",
       "      <td>98</td>\n",
       "      <td>LaSalle St &amp; Washington St</td>\n",
       "      <td>106</td>\n",
       "      <td>State St &amp; Pearson St</td>\n",
       "      <td>Subscriber</td>\n",
       "      <td>Male</td>\n",
       "      <td>1974.0</td>\n",
       "      <td>Thursday</td>\n",
       "      <td>2014</td>\n",
       "      <td>July</td>\n",
       "      <td>Friday</td>\n",
       "      <td>2014</td>\n",
       "      <td>August</td>\n",
       "    </tr>\n",
       "    <tr>\n",
       "      <th>10</th>\n",
       "      <td>2886249</td>\n",
       "      <td>2014-07-31 23:56:00</td>\n",
       "      <td>2014-08-01 00:04:00</td>\n",
       "      <td>1422</td>\n",
       "      <td>505</td>\n",
       "      <td>246</td>\n",
       "      <td>Ashland Ave &amp; Belle Plaine Ave</td>\n",
       "      <td>326</td>\n",
       "      <td>Clark St &amp; Leland Ave</td>\n",
       "      <td>Subscriber</td>\n",
       "      <td>Male</td>\n",
       "      <td>1988.0</td>\n",
       "      <td>Thursday</td>\n",
       "      <td>2014</td>\n",
       "      <td>July</td>\n",
       "      <td>Friday</td>\n",
       "      <td>2014</td>\n",
       "      <td>August</td>\n",
       "    </tr>\n",
       "    <tr>\n",
       "      <th>11</th>\n",
       "      <td>2886248</td>\n",
       "      <td>2014-07-31 23:56:00</td>\n",
       "      <td>2014-08-01 00:04:00</td>\n",
       "      <td>1329</td>\n",
       "      <td>464</td>\n",
       "      <td>291</td>\n",
       "      <td>Wells St &amp; Evergreen Ave</td>\n",
       "      <td>106</td>\n",
       "      <td>State St &amp; Pearson St</td>\n",
       "      <td>Subscriber</td>\n",
       "      <td>Female</td>\n",
       "      <td>1988.0</td>\n",
       "      <td>Thursday</td>\n",
       "      <td>2014</td>\n",
       "      <td>July</td>\n",
       "      <td>Friday</td>\n",
       "      <td>2014</td>\n",
       "      <td>August</td>\n",
       "    </tr>\n",
       "    <tr>\n",
       "      <th>13</th>\n",
       "      <td>2886246</td>\n",
       "      <td>2014-07-31 23:56:00</td>\n",
       "      <td>2014-08-01 00:14:00</td>\n",
       "      <td>2920</td>\n",
       "      <td>1121</td>\n",
       "      <td>113</td>\n",
       "      <td>Bissell St &amp; Armitage Ave</td>\n",
       "      <td>289</td>\n",
       "      <td>Wells St &amp; Concord Ln</td>\n",
       "      <td>Subscriber</td>\n",
       "      <td>Male</td>\n",
       "      <td>1986.0</td>\n",
       "      <td>Thursday</td>\n",
       "      <td>2014</td>\n",
       "      <td>July</td>\n",
       "      <td>Friday</td>\n",
       "      <td>2014</td>\n",
       "      <td>August</td>\n",
       "    </tr>\n",
       "    <tr>\n",
       "      <th>...</th>\n",
       "      <td>...</td>\n",
       "      <td>...</td>\n",
       "      <td>...</td>\n",
       "      <td>...</td>\n",
       "      <td>...</td>\n",
       "      <td>...</td>\n",
       "      <td>...</td>\n",
       "      <td>...</td>\n",
       "      <td>...</td>\n",
       "      <td>...</td>\n",
       "      <td>...</td>\n",
       "      <td>...</td>\n",
       "      <td>...</td>\n",
       "      <td>...</td>\n",
       "      <td>...</td>\n",
       "      <td>...</td>\n",
       "      <td>...</td>\n",
       "      <td>...</td>\n",
       "    </tr>\n",
       "    <tr>\n",
       "      <th>3169057</th>\n",
       "      <td>5005937</td>\n",
       "      <td>2015-04-30 23:47:00</td>\n",
       "      <td>2015-05-01 00:06:00</td>\n",
       "      <td>2162</td>\n",
       "      <td>1119</td>\n",
       "      <td>420</td>\n",
       "      <td>Ellis Ave &amp; 55th St</td>\n",
       "      <td>149</td>\n",
       "      <td>Calumet Ave &amp; 33rd St</td>\n",
       "      <td>Subscriber</td>\n",
       "      <td>Male</td>\n",
       "      <td>1980.0</td>\n",
       "      <td>Thursday</td>\n",
       "      <td>2015</td>\n",
       "      <td>April</td>\n",
       "      <td>Friday</td>\n",
       "      <td>2015</td>\n",
       "      <td>May</td>\n",
       "    </tr>\n",
       "    <tr>\n",
       "      <th>3169058</th>\n",
       "      <td>5005936</td>\n",
       "      <td>2015-04-30 23:47:00</td>\n",
       "      <td>2015-05-01 00:08:00</td>\n",
       "      <td>1891</td>\n",
       "      <td>1266</td>\n",
       "      <td>290</td>\n",
       "      <td>Kedzie Ave &amp; Palmer Ct</td>\n",
       "      <td>298</td>\n",
       "      <td>Lincoln Ave &amp; Belle Plaine Ave</td>\n",
       "      <td>Subscriber</td>\n",
       "      <td>Male</td>\n",
       "      <td>1986.0</td>\n",
       "      <td>Thursday</td>\n",
       "      <td>2015</td>\n",
       "      <td>April</td>\n",
       "      <td>Friday</td>\n",
       "      <td>2015</td>\n",
       "      <td>May</td>\n",
       "    </tr>\n",
       "    <tr>\n",
       "      <th>3169412</th>\n",
       "      <td>5005405</td>\n",
       "      <td>2015-04-30 21:10:00</td>\n",
       "      <td>2015-05-01 08:19:00</td>\n",
       "      <td>2920</td>\n",
       "      <td>40102</td>\n",
       "      <td>37</td>\n",
       "      <td>Dearborn St &amp; Adams St</td>\n",
       "      <td>50</td>\n",
       "      <td>Clark St &amp; Congress Pkwy</td>\n",
       "      <td>Subscriber</td>\n",
       "      <td>Male</td>\n",
       "      <td>1965.0</td>\n",
       "      <td>Thursday</td>\n",
       "      <td>2015</td>\n",
       "      <td>April</td>\n",
       "      <td>Friday</td>\n",
       "      <td>2015</td>\n",
       "      <td>May</td>\n",
       "    </tr>\n",
       "    <tr>\n",
       "      <th>3170054</th>\n",
       "      <td>5004495</td>\n",
       "      <td>2015-04-30 19:02:00</td>\n",
       "      <td>2015-05-01 09:15:00</td>\n",
       "      <td>1831</td>\n",
       "      <td>51166</td>\n",
       "      <td>304</td>\n",
       "      <td>Broadway &amp; Waveland Ave</td>\n",
       "      <td>349</td>\n",
       "      <td>Halsted St &amp; Wrightwood Ave</td>\n",
       "      <td>Subscriber</td>\n",
       "      <td>Female</td>\n",
       "      <td>1986.0</td>\n",
       "      <td>Thursday</td>\n",
       "      <td>2015</td>\n",
       "      <td>April</td>\n",
       "      <td>Friday</td>\n",
       "      <td>2015</td>\n",
       "      <td>May</td>\n",
       "    </tr>\n",
       "    <tr>\n",
       "      <th>3171154</th>\n",
       "      <td>5003153</td>\n",
       "      <td>2015-04-30 17:31:00</td>\n",
       "      <td>2015-05-01 12:44:00</td>\n",
       "      <td>1608</td>\n",
       "      <td>69203</td>\n",
       "      <td>37</td>\n",
       "      <td>Dearborn St &amp; Adams St</td>\n",
       "      <td>72</td>\n",
       "      <td>State St &amp; 16th St</td>\n",
       "      <td>Subscriber</td>\n",
       "      <td>Female</td>\n",
       "      <td>1960.0</td>\n",
       "      <td>Thursday</td>\n",
       "      <td>2015</td>\n",
       "      <td>April</td>\n",
       "      <td>Friday</td>\n",
       "      <td>2015</td>\n",
       "      <td>May</td>\n",
       "    </tr>\n",
       "  </tbody>\n",
       "</table>\n",
       "<p>168 rows × 18 columns</p>\n",
       "</div>"
      ],
      "text/plain": [
       "         trip_id          start_time           stop_time  bikeid  \\\n",
       "0        2886259 2014-07-31 23:56:00 2014-08-01 00:03:00    2602   \n",
       "1        2886258 2014-07-31 23:58:00 2014-08-01 00:07:00    2403   \n",
       "10       2886249 2014-07-31 23:56:00 2014-08-01 00:04:00    1422   \n",
       "11       2886248 2014-07-31 23:56:00 2014-08-01 00:04:00    1329   \n",
       "13       2886246 2014-07-31 23:56:00 2014-08-01 00:14:00    2920   \n",
       "...          ...                 ...                 ...     ...   \n",
       "3169057  5005937 2015-04-30 23:47:00 2015-05-01 00:06:00    2162   \n",
       "3169058  5005936 2015-04-30 23:47:00 2015-05-01 00:08:00    1891   \n",
       "3169412  5005405 2015-04-30 21:10:00 2015-05-01 08:19:00    2920   \n",
       "3170054  5004495 2015-04-30 19:02:00 2015-05-01 09:15:00    1831   \n",
       "3171154  5003153 2015-04-30 17:31:00 2015-05-01 12:44:00    1608   \n",
       "\n",
       "         tripduration  from_station_id               from_station_name  \\\n",
       "0                 386              291        Wells St & Evergreen Ave   \n",
       "1                 495               98      LaSalle St & Washington St   \n",
       "10                505              246  Ashland Ave & Belle Plaine Ave   \n",
       "11                464              291        Wells St & Evergreen Ave   \n",
       "13               1121              113       Bissell St & Armitage Ave   \n",
       "...               ...              ...                             ...   \n",
       "3169057          1119              420             Ellis Ave & 55th St   \n",
       "3169058          1266              290          Kedzie Ave & Palmer Ct   \n",
       "3169412         40102               37          Dearborn St & Adams St   \n",
       "3170054         51166              304         Broadway & Waveland Ave   \n",
       "3171154         69203               37          Dearborn St & Adams St   \n",
       "\n",
       "         to_station_id                 to_station_name    usertype  gender  \\\n",
       "0                   53              Wells St & Erie St  Subscriber  Female   \n",
       "1                  106           State St & Pearson St  Subscriber    Male   \n",
       "10                 326           Clark St & Leland Ave  Subscriber    Male   \n",
       "11                 106           State St & Pearson St  Subscriber  Female   \n",
       "13                 289           Wells St & Concord Ln  Subscriber    Male   \n",
       "...                ...                             ...         ...     ...   \n",
       "3169057            149           Calumet Ave & 33rd St  Subscriber    Male   \n",
       "3169058            298  Lincoln Ave & Belle Plaine Ave  Subscriber    Male   \n",
       "3169412             50        Clark St & Congress Pkwy  Subscriber    Male   \n",
       "3170054            349     Halsted St & Wrightwood Ave  Subscriber  Female   \n",
       "3171154             72              State St & 16th St  Subscriber  Female   \n",
       "\n",
       "         birthyear     S_Day S_Year S_Month   E_Day E_Year E_Month  \n",
       "0           1979.0  Thursday   2014    July  Friday   2014  August  \n",
       "1           1974.0  Thursday   2014    July  Friday   2014  August  \n",
       "10          1988.0  Thursday   2014    July  Friday   2014  August  \n",
       "11          1988.0  Thursday   2014    July  Friday   2014  August  \n",
       "13          1986.0  Thursday   2014    July  Friday   2014  August  \n",
       "...            ...       ...    ...     ...     ...    ...     ...  \n",
       "3169057     1980.0  Thursday   2015   April  Friday   2015     May  \n",
       "3169058     1986.0  Thursday   2015   April  Friday   2015     May  \n",
       "3169412     1965.0  Thursday   2015   April  Friday   2015     May  \n",
       "3170054     1986.0  Thursday   2015   April  Friday   2015     May  \n",
       "3171154     1960.0  Thursday   2015   April  Friday   2015     May  \n",
       "\n",
       "[168 rows x 18 columns]"
      ]
     },
     "execution_count": 90,
     "metadata": {},
     "output_type": "execute_result"
    }
   ],
   "source": [
    "df[df.E_Month != df.S_Month]"
   ]
  },
  {
   "cell_type": "markdown",
   "metadata": {},
   "source": [
    "### the clients started at the last day of a month almost before 12 am"
   ]
  },
  {
   "cell_type": "code",
   "execution_count": 91,
   "metadata": {},
   "outputs": [
    {
     "name": "stdout",
     "output_type": "stream",
     "text": [
      "June         473996\n",
      "May          360785\n",
      "August       328952\n",
      "July         251727\n",
      "April        241059\n",
      "October      188324\n",
      "March        145226\n",
      "November     101275\n",
      "January       79973\n",
      "December      78770\n",
      "February      61024\n",
      "September        18\n",
      "Name: E_Month, dtype: int64\n",
      "2014    1211778\n",
      "2015    1099351\n",
      "Name: S_Year, dtype: int64\n",
      "Wednesday    378677\n",
      "Thursday     378376\n",
      "Tuesday      375024\n",
      "Friday       354850\n",
      "Monday       353927\n",
      "Saturday     250128\n",
      "Sunday       220147\n",
      "Name: S_Day, dtype: int64\n"
     ]
    }
   ],
   "source": [
    "print(df.E_Month.value_counts())\n",
    "print(df.S_Year.value_counts())\n",
    "print(df.S_Day.value_counts())"
   ]
  },
  {
   "cell_type": "code",
   "execution_count": 92,
   "metadata": {},
   "outputs": [],
   "source": [
    "df[\"Age\"] = df[\"S_Year\"].astype(float) - df[\"birthyear\"]"
   ]
  },
  {
   "cell_type": "code",
   "execution_count": 93,
   "metadata": {},
   "outputs": [
    {
     "data": {
      "text/html": [
       "<div>\n",
       "<style scoped>\n",
       "    .dataframe tbody tr th:only-of-type {\n",
       "        vertical-align: middle;\n",
       "    }\n",
       "\n",
       "    .dataframe tbody tr th {\n",
       "        vertical-align: top;\n",
       "    }\n",
       "\n",
       "    .dataframe thead th {\n",
       "        text-align: right;\n",
       "    }\n",
       "</style>\n",
       "<table border=\"1\" class=\"dataframe\">\n",
       "  <thead>\n",
       "    <tr style=\"text-align: right;\">\n",
       "      <th></th>\n",
       "      <th>trip_id</th>\n",
       "      <th>bikeid</th>\n",
       "      <th>tripduration</th>\n",
       "      <th>from_station_id</th>\n",
       "      <th>to_station_id</th>\n",
       "      <th>birthyear</th>\n",
       "      <th>Age</th>\n",
       "    </tr>\n",
       "  </thead>\n",
       "  <tbody>\n",
       "    <tr>\n",
       "      <th>count</th>\n",
       "      <td>2.311129e+06</td>\n",
       "      <td>2.311129e+06</td>\n",
       "      <td>2.311129e+06</td>\n",
       "      <td>2.311129e+06</td>\n",
       "      <td>2.311129e+06</td>\n",
       "      <td>2.311129e+06</td>\n",
       "      <td>2.311129e+06</td>\n",
       "    </tr>\n",
       "    <tr>\n",
       "      <th>mean</th>\n",
       "      <td>4.088847e+06</td>\n",
       "      <td>1.920310e+03</td>\n",
       "      <td>7.232478e+02</td>\n",
       "      <td>1.681105e+02</td>\n",
       "      <td>1.689295e+02</td>\n",
       "      <td>1.978958e+03</td>\n",
       "      <td>3.551784e+01</td>\n",
       "    </tr>\n",
       "    <tr>\n",
       "      <th>std</th>\n",
       "      <td>1.819356e+06</td>\n",
       "      <td>1.197545e+03</td>\n",
       "      <td>1.331046e+03</td>\n",
       "      <td>1.056012e+02</td>\n",
       "      <td>1.061486e+02</td>\n",
       "      <td>1.050635e+01</td>\n",
       "      <td>1.049162e+01</td>\n",
       "    </tr>\n",
       "    <tr>\n",
       "      <th>min</th>\n",
       "      <td>1.109427e+06</td>\n",
       "      <td>1.000000e+00</td>\n",
       "      <td>6.000000e+01</td>\n",
       "      <td>2.000000e+00</td>\n",
       "      <td>2.000000e+00</td>\n",
       "      <td>1.898000e+03</td>\n",
       "      <td>1.600000e+01</td>\n",
       "    </tr>\n",
       "    <tr>\n",
       "      <th>25%</th>\n",
       "      <td>2.320195e+06</td>\n",
       "      <td>9.410000e+02</td>\n",
       "      <td>3.570000e+02</td>\n",
       "      <td>7.500000e+01</td>\n",
       "      <td>7.500000e+01</td>\n",
       "      <td>1.973000e+03</td>\n",
       "      <td>2.800000e+01</td>\n",
       "    </tr>\n",
       "    <tr>\n",
       "      <th>50%</th>\n",
       "      <td>4.324117e+06</td>\n",
       "      <td>1.839000e+03</td>\n",
       "      <td>5.740000e+02</td>\n",
       "      <td>1.590000e+02</td>\n",
       "      <td>1.590000e+02</td>\n",
       "      <td>1.982000e+03</td>\n",
       "      <td>3.200000e+01</td>\n",
       "    </tr>\n",
       "    <tr>\n",
       "      <th>75%</th>\n",
       "      <td>5.437842e+06</td>\n",
       "      <td>2.711000e+03</td>\n",
       "      <td>9.100000e+02</td>\n",
       "      <td>2.540000e+02</td>\n",
       "      <td>2.550000e+02</td>\n",
       "      <td>1.987000e+03</td>\n",
       "      <td>4.100000e+01</td>\n",
       "    </tr>\n",
       "    <tr>\n",
       "      <th>max</th>\n",
       "      <td>7.221407e+06</td>\n",
       "      <td>4.837000e+03</td>\n",
       "      <td>8.610800e+04</td>\n",
       "      <td>5.110000e+02</td>\n",
       "      <td>5.110000e+02</td>\n",
       "      <td>1.999000e+03</td>\n",
       "      <td>1.170000e+02</td>\n",
       "    </tr>\n",
       "  </tbody>\n",
       "</table>\n",
       "</div>"
      ],
      "text/plain": [
       "            trip_id        bikeid  tripduration  from_station_id  \\\n",
       "count  2.311129e+06  2.311129e+06  2.311129e+06     2.311129e+06   \n",
       "mean   4.088847e+06  1.920310e+03  7.232478e+02     1.681105e+02   \n",
       "std    1.819356e+06  1.197545e+03  1.331046e+03     1.056012e+02   \n",
       "min    1.109427e+06  1.000000e+00  6.000000e+01     2.000000e+00   \n",
       "25%    2.320195e+06  9.410000e+02  3.570000e+02     7.500000e+01   \n",
       "50%    4.324117e+06  1.839000e+03  5.740000e+02     1.590000e+02   \n",
       "75%    5.437842e+06  2.711000e+03  9.100000e+02     2.540000e+02   \n",
       "max    7.221407e+06  4.837000e+03  8.610800e+04     5.110000e+02   \n",
       "\n",
       "       to_station_id     birthyear           Age  \n",
       "count   2.311129e+06  2.311129e+06  2.311129e+06  \n",
       "mean    1.689295e+02  1.978958e+03  3.551784e+01  \n",
       "std     1.061486e+02  1.050635e+01  1.049162e+01  \n",
       "min     2.000000e+00  1.898000e+03  1.600000e+01  \n",
       "25%     7.500000e+01  1.973000e+03  2.800000e+01  \n",
       "50%     1.590000e+02  1.982000e+03  3.200000e+01  \n",
       "75%     2.550000e+02  1.987000e+03  4.100000e+01  \n",
       "max     5.110000e+02  1.999000e+03  1.170000e+02  "
      ]
     },
     "execution_count": 93,
     "metadata": {},
     "output_type": "execute_result"
    }
   ],
   "source": [
    "df.describe()"
   ]
  },
  {
   "cell_type": "code",
   "execution_count": 94,
   "metadata": {},
   "outputs": [
    {
     "data": {
      "text/html": [
       "<div>\n",
       "<style scoped>\n",
       "    .dataframe tbody tr th:only-of-type {\n",
       "        vertical-align: middle;\n",
       "    }\n",
       "\n",
       "    .dataframe tbody tr th {\n",
       "        vertical-align: top;\n",
       "    }\n",
       "\n",
       "    .dataframe thead th {\n",
       "        text-align: right;\n",
       "    }\n",
       "</style>\n",
       "<table border=\"1\" class=\"dataframe\">\n",
       "  <thead>\n",
       "    <tr style=\"text-align: right;\">\n",
       "      <th></th>\n",
       "      <th>trip_id</th>\n",
       "      <th>start_time</th>\n",
       "      <th>stop_time</th>\n",
       "      <th>bikeid</th>\n",
       "      <th>tripduration</th>\n",
       "      <th>from_station_id</th>\n",
       "      <th>from_station_name</th>\n",
       "      <th>to_station_id</th>\n",
       "      <th>to_station_name</th>\n",
       "      <th>usertype</th>\n",
       "      <th>gender</th>\n",
       "      <th>birthyear</th>\n",
       "      <th>S_Day</th>\n",
       "      <th>S_Year</th>\n",
       "      <th>S_Month</th>\n",
       "      <th>E_Day</th>\n",
       "      <th>E_Year</th>\n",
       "      <th>E_Month</th>\n",
       "      <th>Age</th>\n",
       "    </tr>\n",
       "  </thead>\n",
       "  <tbody>\n",
       "    <tr>\n",
       "      <th>298</th>\n",
       "      <td>2885836</td>\n",
       "      <td>2014-07-31 22:45:00</td>\n",
       "      <td>2014-07-31 23:15:00</td>\n",
       "      <td>2201</td>\n",
       "      <td>1763</td>\n",
       "      <td>55</td>\n",
       "      <td>Halsted St &amp; James M Rochford St</td>\n",
       "      <td>174</td>\n",
       "      <td>Canal St &amp; Madison St</td>\n",
       "      <td>Subscriber</td>\n",
       "      <td>Male</td>\n",
       "      <td>1906.0</td>\n",
       "      <td>Thursday</td>\n",
       "      <td>2014</td>\n",
       "      <td>July</td>\n",
       "      <td>Thursday</td>\n",
       "      <td>2014</td>\n",
       "      <td>July</td>\n",
       "      <td>108.0</td>\n",
       "    </tr>\n",
       "    <tr>\n",
       "      <th>477</th>\n",
       "      <td>2885601</td>\n",
       "      <td>2014-07-31 22:19:00</td>\n",
       "      <td>2014-07-31 22:32:00</td>\n",
       "      <td>2560</td>\n",
       "      <td>794</td>\n",
       "      <td>61</td>\n",
       "      <td>Wood St &amp; Milwaukee Ave</td>\n",
       "      <td>183</td>\n",
       "      <td>Damen Ave &amp; Augusta Blvd</td>\n",
       "      <td>Subscriber</td>\n",
       "      <td>Female</td>\n",
       "      <td>1915.0</td>\n",
       "      <td>Thursday</td>\n",
       "      <td>2014</td>\n",
       "      <td>July</td>\n",
       "      <td>Thursday</td>\n",
       "      <td>2014</td>\n",
       "      <td>July</td>\n",
       "      <td>99.0</td>\n",
       "    </tr>\n",
       "    <tr>\n",
       "      <th>798</th>\n",
       "      <td>2885152</td>\n",
       "      <td>2014-07-31 21:40:00</td>\n",
       "      <td>2014-07-31 21:55:00</td>\n",
       "      <td>2201</td>\n",
       "      <td>947</td>\n",
       "      <td>174</td>\n",
       "      <td>Canal St &amp; Madison St</td>\n",
       "      <td>55</td>\n",
       "      <td>Halsted St &amp; James M Rochford St</td>\n",
       "      <td>Subscriber</td>\n",
       "      <td>Male</td>\n",
       "      <td>1906.0</td>\n",
       "      <td>Thursday</td>\n",
       "      <td>2014</td>\n",
       "      <td>July</td>\n",
       "      <td>Thursday</td>\n",
       "      <td>2014</td>\n",
       "      <td>July</td>\n",
       "      <td>108.0</td>\n",
       "    </tr>\n",
       "    <tr>\n",
       "      <th>5837</th>\n",
       "      <td>2878784</td>\n",
       "      <td>2014-07-31 17:02:00</td>\n",
       "      <td>2014-07-31 17:22:00</td>\n",
       "      <td>2486</td>\n",
       "      <td>1156</td>\n",
       "      <td>191</td>\n",
       "      <td>Canal St &amp; Monroe St</td>\n",
       "      <td>16</td>\n",
       "      <td>Wood St &amp; North Ave</td>\n",
       "      <td>Subscriber</td>\n",
       "      <td>Female</td>\n",
       "      <td>1931.0</td>\n",
       "      <td>Thursday</td>\n",
       "      <td>2014</td>\n",
       "      <td>July</td>\n",
       "      <td>Thursday</td>\n",
       "      <td>2014</td>\n",
       "      <td>July</td>\n",
       "      <td>83.0</td>\n",
       "    </tr>\n",
       "    <tr>\n",
       "      <th>5891</th>\n",
       "      <td>2878710</td>\n",
       "      <td>2014-07-31 17:00:00</td>\n",
       "      <td>2014-07-31 17:09:00</td>\n",
       "      <td>2325</td>\n",
       "      <td>552</td>\n",
       "      <td>74</td>\n",
       "      <td>Kingsbury St &amp; Erie St</td>\n",
       "      <td>27</td>\n",
       "      <td>Larrabee St &amp; North Ave</td>\n",
       "      <td>Subscriber</td>\n",
       "      <td>Male</td>\n",
       "      <td>1900.0</td>\n",
       "      <td>Thursday</td>\n",
       "      <td>2014</td>\n",
       "      <td>July</td>\n",
       "      <td>Thursday</td>\n",
       "      <td>2014</td>\n",
       "      <td>July</td>\n",
       "      <td>114.0</td>\n",
       "    </tr>\n",
       "    <tr>\n",
       "      <th>...</th>\n",
       "      <td>...</td>\n",
       "      <td>...</td>\n",
       "      <td>...</td>\n",
       "      <td>...</td>\n",
       "      <td>...</td>\n",
       "      <td>...</td>\n",
       "      <td>...</td>\n",
       "      <td>...</td>\n",
       "      <td>...</td>\n",
       "      <td>...</td>\n",
       "      <td>...</td>\n",
       "      <td>...</td>\n",
       "      <td>...</td>\n",
       "      <td>...</td>\n",
       "      <td>...</td>\n",
       "      <td>...</td>\n",
       "      <td>...</td>\n",
       "      <td>...</td>\n",
       "      <td>...</td>\n",
       "    </tr>\n",
       "    <tr>\n",
       "      <th>3307256</th>\n",
       "      <td>4814855</td>\n",
       "      <td>2015-04-09 19:13:00</td>\n",
       "      <td>2015-04-09 19:32:00</td>\n",
       "      <td>1661</td>\n",
       "      <td>1127</td>\n",
       "      <td>174</td>\n",
       "      <td>Canal St &amp; Madison St</td>\n",
       "      <td>214</td>\n",
       "      <td>Damen Ave &amp; Grand Ave</td>\n",
       "      <td>Subscriber</td>\n",
       "      <td>Male</td>\n",
       "      <td>1900.0</td>\n",
       "      <td>Thursday</td>\n",
       "      <td>2015</td>\n",
       "      <td>April</td>\n",
       "      <td>Thursday</td>\n",
       "      <td>2015</td>\n",
       "      <td>April</td>\n",
       "      <td>115.0</td>\n",
       "    </tr>\n",
       "    <tr>\n",
       "      <th>3313041</th>\n",
       "      <td>4803213</td>\n",
       "      <td>2015-04-07 22:09:00</td>\n",
       "      <td>2015-04-07 22:24:00</td>\n",
       "      <td>788</td>\n",
       "      <td>947</td>\n",
       "      <td>174</td>\n",
       "      <td>Canal St &amp; Madison St</td>\n",
       "      <td>98</td>\n",
       "      <td>LaSalle St &amp; Washington St</td>\n",
       "      <td>Subscriber</td>\n",
       "      <td>Male</td>\n",
       "      <td>1906.0</td>\n",
       "      <td>Tuesday</td>\n",
       "      <td>2015</td>\n",
       "      <td>April</td>\n",
       "      <td>Tuesday</td>\n",
       "      <td>2015</td>\n",
       "      <td>April</td>\n",
       "      <td>109.0</td>\n",
       "    </tr>\n",
       "    <tr>\n",
       "      <th>3317868</th>\n",
       "      <td>4793298</td>\n",
       "      <td>2015-04-06 16:30:00</td>\n",
       "      <td>2015-04-06 16:50:00</td>\n",
       "      <td>781</td>\n",
       "      <td>1202</td>\n",
       "      <td>49</td>\n",
       "      <td>Dearborn St &amp; Monroe St</td>\n",
       "      <td>27</td>\n",
       "      <td>Larrabee St &amp; North Ave</td>\n",
       "      <td>Subscriber</td>\n",
       "      <td>Male</td>\n",
       "      <td>1900.0</td>\n",
       "      <td>Monday</td>\n",
       "      <td>2015</td>\n",
       "      <td>April</td>\n",
       "      <td>Monday</td>\n",
       "      <td>2015</td>\n",
       "      <td>April</td>\n",
       "      <td>115.0</td>\n",
       "    </tr>\n",
       "    <tr>\n",
       "      <th>3340191</th>\n",
       "      <td>4748893</td>\n",
       "      <td>2015-04-01 18:54:00</td>\n",
       "      <td>2015-04-01 19:05:00</td>\n",
       "      <td>1394</td>\n",
       "      <td>689</td>\n",
       "      <td>174</td>\n",
       "      <td>Canal St &amp; Madison St</td>\n",
       "      <td>29</td>\n",
       "      <td>Noble St &amp; Milwaukee Ave</td>\n",
       "      <td>Subscriber</td>\n",
       "      <td>Male</td>\n",
       "      <td>1900.0</td>\n",
       "      <td>Wednesday</td>\n",
       "      <td>2015</td>\n",
       "      <td>April</td>\n",
       "      <td>Wednesday</td>\n",
       "      <td>2015</td>\n",
       "      <td>April</td>\n",
       "      <td>115.0</td>\n",
       "    </tr>\n",
       "    <tr>\n",
       "      <th>3343833</th>\n",
       "      <td>4741275</td>\n",
       "      <td>2015-04-01 10:10:00</td>\n",
       "      <td>2015-04-01 10:18:00</td>\n",
       "      <td>399</td>\n",
       "      <td>495</td>\n",
       "      <td>287</td>\n",
       "      <td>Franklin St &amp; Arcade Pl</td>\n",
       "      <td>90</td>\n",
       "      <td>Millennium Park</td>\n",
       "      <td>Subscriber</td>\n",
       "      <td>Male</td>\n",
       "      <td>1934.0</td>\n",
       "      <td>Wednesday</td>\n",
       "      <td>2015</td>\n",
       "      <td>April</td>\n",
       "      <td>Wednesday</td>\n",
       "      <td>2015</td>\n",
       "      <td>April</td>\n",
       "      <td>81.0</td>\n",
       "    </tr>\n",
       "  </tbody>\n",
       "</table>\n",
       "<p>1059 rows × 19 columns</p>\n",
       "</div>"
      ],
      "text/plain": [
       "         trip_id          start_time           stop_time  bikeid  \\\n",
       "298      2885836 2014-07-31 22:45:00 2014-07-31 23:15:00    2201   \n",
       "477      2885601 2014-07-31 22:19:00 2014-07-31 22:32:00    2560   \n",
       "798      2885152 2014-07-31 21:40:00 2014-07-31 21:55:00    2201   \n",
       "5837     2878784 2014-07-31 17:02:00 2014-07-31 17:22:00    2486   \n",
       "5891     2878710 2014-07-31 17:00:00 2014-07-31 17:09:00    2325   \n",
       "...          ...                 ...                 ...     ...   \n",
       "3307256  4814855 2015-04-09 19:13:00 2015-04-09 19:32:00    1661   \n",
       "3313041  4803213 2015-04-07 22:09:00 2015-04-07 22:24:00     788   \n",
       "3317868  4793298 2015-04-06 16:30:00 2015-04-06 16:50:00     781   \n",
       "3340191  4748893 2015-04-01 18:54:00 2015-04-01 19:05:00    1394   \n",
       "3343833  4741275 2015-04-01 10:10:00 2015-04-01 10:18:00     399   \n",
       "\n",
       "         tripduration  from_station_id                 from_station_name  \\\n",
       "298              1763               55  Halsted St & James M Rochford St   \n",
       "477               794               61           Wood St & Milwaukee Ave   \n",
       "798               947              174             Canal St & Madison St   \n",
       "5837             1156              191              Canal St & Monroe St   \n",
       "5891              552               74            Kingsbury St & Erie St   \n",
       "...               ...              ...                               ...   \n",
       "3307256          1127              174             Canal St & Madison St   \n",
       "3313041           947              174             Canal St & Madison St   \n",
       "3317868          1202               49           Dearborn St & Monroe St   \n",
       "3340191           689              174             Canal St & Madison St   \n",
       "3343833           495              287           Franklin St & Arcade Pl   \n",
       "\n",
       "         to_station_id                   to_station_name    usertype  gender  \\\n",
       "298                174             Canal St & Madison St  Subscriber    Male   \n",
       "477                183          Damen Ave & Augusta Blvd  Subscriber  Female   \n",
       "798                 55  Halsted St & James M Rochford St  Subscriber    Male   \n",
       "5837                16               Wood St & North Ave  Subscriber  Female   \n",
       "5891                27           Larrabee St & North Ave  Subscriber    Male   \n",
       "...                ...                               ...         ...     ...   \n",
       "3307256            214             Damen Ave & Grand Ave  Subscriber    Male   \n",
       "3313041             98        LaSalle St & Washington St  Subscriber    Male   \n",
       "3317868             27           Larrabee St & North Ave  Subscriber    Male   \n",
       "3340191             29          Noble St & Milwaukee Ave  Subscriber    Male   \n",
       "3343833             90                   Millennium Park  Subscriber    Male   \n",
       "\n",
       "         birthyear      S_Day S_Year S_Month      E_Day E_Year E_Month    Age  \n",
       "298         1906.0   Thursday   2014    July   Thursday   2014    July  108.0  \n",
       "477         1915.0   Thursday   2014    July   Thursday   2014    July   99.0  \n",
       "798         1906.0   Thursday   2014    July   Thursday   2014    July  108.0  \n",
       "5837        1931.0   Thursday   2014    July   Thursday   2014    July   83.0  \n",
       "5891        1900.0   Thursday   2014    July   Thursday   2014    July  114.0  \n",
       "...            ...        ...    ...     ...        ...    ...     ...    ...  \n",
       "3307256     1900.0   Thursday   2015   April   Thursday   2015   April  115.0  \n",
       "3313041     1906.0    Tuesday   2015   April    Tuesday   2015   April  109.0  \n",
       "3317868     1900.0     Monday   2015   April     Monday   2015   April  115.0  \n",
       "3340191     1900.0  Wednesday   2015   April  Wednesday   2015   April  115.0  \n",
       "3343833     1934.0  Wednesday   2015   April  Wednesday   2015   April   81.0  \n",
       "\n",
       "[1059 rows x 19 columns]"
      ]
     },
     "execution_count": 94,
     "metadata": {},
     "output_type": "execute_result"
    }
   ],
   "source": [
    "df[df.Age > 80]"
   ]
  },
  {
   "cell_type": "code",
   "execution_count": 95,
   "metadata": {},
   "outputs": [],
   "source": [
    "df.drop(df[df.Age > 80].index, inplace = True) "
   ]
  },
  {
   "cell_type": "code",
   "execution_count": 96,
   "metadata": {},
   "outputs": [
    {
     "data": {
      "text/html": [
       "<div>\n",
       "<style scoped>\n",
       "    .dataframe tbody tr th:only-of-type {\n",
       "        vertical-align: middle;\n",
       "    }\n",
       "\n",
       "    .dataframe tbody tr th {\n",
       "        vertical-align: top;\n",
       "    }\n",
       "\n",
       "    .dataframe thead th {\n",
       "        text-align: right;\n",
       "    }\n",
       "</style>\n",
       "<table border=\"1\" class=\"dataframe\">\n",
       "  <thead>\n",
       "    <tr style=\"text-align: right;\">\n",
       "      <th></th>\n",
       "      <th>trip_id</th>\n",
       "      <th>start_time</th>\n",
       "      <th>stop_time</th>\n",
       "      <th>bikeid</th>\n",
       "      <th>tripduration</th>\n",
       "      <th>from_station_id</th>\n",
       "      <th>from_station_name</th>\n",
       "      <th>to_station_id</th>\n",
       "      <th>to_station_name</th>\n",
       "      <th>usertype</th>\n",
       "      <th>gender</th>\n",
       "      <th>birthyear</th>\n",
       "      <th>S_Day</th>\n",
       "      <th>S_Year</th>\n",
       "      <th>S_Month</th>\n",
       "      <th>E_Day</th>\n",
       "      <th>E_Year</th>\n",
       "      <th>E_Month</th>\n",
       "      <th>Age</th>\n",
       "    </tr>\n",
       "  </thead>\n",
       "  <tbody>\n",
       "  </tbody>\n",
       "</table>\n",
       "</div>"
      ],
      "text/plain": [
       "Empty DataFrame\n",
       "Columns: [trip_id, start_time, stop_time, bikeid, tripduration, from_station_id, from_station_name, to_station_id, to_station_name, usertype, gender, birthyear, S_Day, S_Year, S_Month, E_Day, E_Year, E_Month, Age]\n",
       "Index: []"
      ]
     },
     "execution_count": 96,
     "metadata": {},
     "output_type": "execute_result"
    }
   ],
   "source": [
    "df[df.Age > 80]"
   ]
  },
  {
   "cell_type": "code",
   "execution_count": 97,
   "metadata": {},
   "outputs": [
    {
     "data": {
      "text/plain": [
       "2310070"
      ]
     },
     "execution_count": 97,
     "metadata": {},
     "output_type": "execute_result"
    }
   ],
   "source": [
    "len(set(df.trip_id))"
   ]
  },
  {
   "cell_type": "code",
   "execution_count": 98,
   "metadata": {},
   "outputs": [
    {
     "data": {
      "text/plain": [
       "2310070"
      ]
     },
     "execution_count": 98,
     "metadata": {},
     "output_type": "execute_result"
    }
   ],
   "source": [
    "df.shape[0]"
   ]
  },
  {
   "cell_type": "markdown",
   "metadata": {},
   "source": [
    "### no duplicate in the trip_id"
   ]
  },
  {
   "cell_type": "markdown",
   "metadata": {},
   "source": [
    "### What is the structure of your dataset?\n",
    "\n",
    "> The Data consists mostly from numeric features like the start time, end time, trip duration amd some categorial features like gender station id, station name and user type \n",
    "\n",
    "### What is/are the main feature(s) of interest in your dataset?\n",
    "\n",
    "> iam mainly interest in the trip duration and which month of the year has the most demand on the bikes. I had to merge some files to get more data i used data for two consecutive years 2014 and 2015 to have more information \n",
    "\n",
    "### What features in the dataset do you think will help support your investigation into your feature(s) of interest?\n",
    "\n",
    "> I had to generate some data from the start time column of the trip as i created a columns for the year, month, day and time of the trip to try to know which months of the year, which day of the month and which time of the day have the more demand on the bikes. which station has the more demand and when so we can add more bikes in that station at that certain date and time. for that part i will use start_time and from_station_id and to_station_id.\n",
    "\n",
    "Also will try to get which type of users use the bikes the most is it the subscribed users or just one use customers so we can know will it help to add more offers for subscription or just target the one use customers and for this part will use the usertype column.\n",
    "\n",
    "Also will investigat on which age group uses the bikes the most and was it males or females.  \n",
    "\n",
    "\n",
    "\n",
    "# SO the questions will be \n",
    "\n",
    "### 1-  Which age group uses the bikes the most and was it males or females?\n",
    "### 2- Which users types use the bikes the most \"Subscriber\" or \"Customer\"? \n",
    "### 3- Which season is the best for biking? \n",
    "\n",
    "  "
   ]
  },
  {
   "cell_type": "markdown",
   "metadata": {},
   "source": [
    "## Univariate Exploration\n",
    "\n",
    "> In this section, investigate distributions of individual variables. If\n",
    "you see unusual points or outliers, take a deeper look to clean things up\n",
    "and prepare yourself to look at relationships between variables."
   ]
  },
  {
   "cell_type": "code",
   "execution_count": 99,
   "metadata": {},
   "outputs": [
    {
     "data": {
      "image/png": "[encoded data removed]",
      "text/plain": [
       "<Figure size 576x360 with 1 Axes>"
      ]
     },
     "metadata": {
      "needs_background": "light"
     },
     "output_type": "display_data"
    }
   ],
   "source": [
    "\n",
    "\n",
    "binsize = 50\n",
    "bins = np.arange(0, 3000, binsize)\n",
    "\n",
    "plt.figure(figsize=[8, 5])\n",
    "plt.hist(data = df, x = 'tripduration', bins = bins)\n",
    "plt.xlabel('tripduration in seconds')\n",
    "plt.title(\"Histogram for Trip Duration\");\n",
    "\n"
   ]
  },
  {
   "cell_type": "markdown",
   "metadata": {},
   "source": [
    "### Most of the trips are between few seconds and 1000 seconds"
   ]
  },
  {
   "cell_type": "code",
   "execution_count": 100,
   "metadata": {},
   "outputs": [
    {
     "data": {
      "text/html": [
       "<div>\n",
       "<style scoped>\n",
       "    .dataframe tbody tr th:only-of-type {\n",
       "        vertical-align: middle;\n",
       "    }\n",
       "\n",
       "    .dataframe tbody tr th {\n",
       "        vertical-align: top;\n",
       "    }\n",
       "\n",
       "    .dataframe thead th {\n",
       "        text-align: right;\n",
       "    }\n",
       "</style>\n",
       "<table border=\"1\" class=\"dataframe\">\n",
       "  <thead>\n",
       "    <tr style=\"text-align: right;\">\n",
       "      <th></th>\n",
       "      <th>trip_id</th>\n",
       "      <th>start_time</th>\n",
       "      <th>stop_time</th>\n",
       "      <th>bikeid</th>\n",
       "      <th>tripduration</th>\n",
       "      <th>from_station_id</th>\n",
       "      <th>from_station_name</th>\n",
       "      <th>to_station_id</th>\n",
       "      <th>to_station_name</th>\n",
       "      <th>usertype</th>\n",
       "      <th>gender</th>\n",
       "      <th>birthyear</th>\n",
       "      <th>S_Day</th>\n",
       "      <th>S_Year</th>\n",
       "      <th>S_Month</th>\n",
       "      <th>E_Day</th>\n",
       "      <th>E_Year</th>\n",
       "      <th>E_Month</th>\n",
       "      <th>Age</th>\n",
       "    </tr>\n",
       "  </thead>\n",
       "  <tbody>\n",
       "    <tr>\n",
       "      <th>309</th>\n",
       "      <td>2885819</td>\n",
       "      <td>2014-07-31 22:44:00</td>\n",
       "      <td>2014-07-31 22:46:00</td>\n",
       "      <td>2881</td>\n",
       "      <td>102</td>\n",
       "      <td>68</td>\n",
       "      <td>Clinton St &amp; Tilden St</td>\n",
       "      <td>75</td>\n",
       "      <td>Canal St &amp; Jackson Blvd</td>\n",
       "      <td>Subscriber</td>\n",
       "      <td>Male</td>\n",
       "      <td>1952.0</td>\n",
       "      <td>Thursday</td>\n",
       "      <td>2014</td>\n",
       "      <td>July</td>\n",
       "      <td>Thursday</td>\n",
       "      <td>2014</td>\n",
       "      <td>July</td>\n",
       "      <td>62.0</td>\n",
       "    </tr>\n",
       "    <tr>\n",
       "      <th>380</th>\n",
       "      <td>2885729</td>\n",
       "      <td>2014-07-31 22:33:00</td>\n",
       "      <td>2014-07-31 22:34:00</td>\n",
       "      <td>2298</td>\n",
       "      <td>97</td>\n",
       "      <td>337</td>\n",
       "      <td>Clark St &amp; Chicago Ave</td>\n",
       "      <td>140</td>\n",
       "      <td>Dearborn Pkwy &amp; Delaware Pl</td>\n",
       "      <td>Subscriber</td>\n",
       "      <td>Male</td>\n",
       "      <td>1971.0</td>\n",
       "      <td>Thursday</td>\n",
       "      <td>2014</td>\n",
       "      <td>July</td>\n",
       "      <td>Thursday</td>\n",
       "      <td>2014</td>\n",
       "      <td>July</td>\n",
       "      <td>43.0</td>\n",
       "    </tr>\n",
       "    <tr>\n",
       "      <th>647</th>\n",
       "      <td>2885368</td>\n",
       "      <td>2014-07-31 21:58:00</td>\n",
       "      <td>2014-07-31 21:59:00</td>\n",
       "      <td>2705</td>\n",
       "      <td>60</td>\n",
       "      <td>297</td>\n",
       "      <td>Paulina St &amp; Montrose Ave</td>\n",
       "      <td>238</td>\n",
       "      <td>Ravenswood Ave &amp; Montrose Ave</td>\n",
       "      <td>Subscriber</td>\n",
       "      <td>Female</td>\n",
       "      <td>1975.0</td>\n",
       "      <td>Thursday</td>\n",
       "      <td>2014</td>\n",
       "      <td>July</td>\n",
       "      <td>Thursday</td>\n",
       "      <td>2014</td>\n",
       "      <td>July</td>\n",
       "      <td>39.0</td>\n",
       "    </tr>\n",
       "    <tr>\n",
       "      <th>955</th>\n",
       "      <td>2884957</td>\n",
       "      <td>2014-07-31 21:20:00</td>\n",
       "      <td>2014-07-31 21:22:00</td>\n",
       "      <td>807</td>\n",
       "      <td>116</td>\n",
       "      <td>123</td>\n",
       "      <td>California Ave &amp; Milwaukee Ave</td>\n",
       "      <td>222</td>\n",
       "      <td>Milwaukee Ave &amp; Rockwell St</td>\n",
       "      <td>Subscriber</td>\n",
       "      <td>Female</td>\n",
       "      <td>1985.0</td>\n",
       "      <td>Thursday</td>\n",
       "      <td>2014</td>\n",
       "      <td>July</td>\n",
       "      <td>Thursday</td>\n",
       "      <td>2014</td>\n",
       "      <td>July</td>\n",
       "      <td>29.0</td>\n",
       "    </tr>\n",
       "    <tr>\n",
       "      <th>1041</th>\n",
       "      <td>2884852</td>\n",
       "      <td>2014-07-31 21:10:00</td>\n",
       "      <td>2014-07-31 21:12:00</td>\n",
       "      <td>2550</td>\n",
       "      <td>104</td>\n",
       "      <td>244</td>\n",
       "      <td>Ravenswood Ave &amp; Irving Park Rd</td>\n",
       "      <td>314</td>\n",
       "      <td>Ravenswood Ave &amp; Berteau Ave</td>\n",
       "      <td>Subscriber</td>\n",
       "      <td>Male</td>\n",
       "      <td>1974.0</td>\n",
       "      <td>Thursday</td>\n",
       "      <td>2014</td>\n",
       "      <td>July</td>\n",
       "      <td>Thursday</td>\n",
       "      <td>2014</td>\n",
       "      <td>July</td>\n",
       "      <td>40.0</td>\n",
       "    </tr>\n",
       "    <tr>\n",
       "      <th>...</th>\n",
       "      <td>...</td>\n",
       "      <td>...</td>\n",
       "      <td>...</td>\n",
       "      <td>...</td>\n",
       "      <td>...</td>\n",
       "      <td>...</td>\n",
       "      <td>...</td>\n",
       "      <td>...</td>\n",
       "      <td>...</td>\n",
       "      <td>...</td>\n",
       "      <td>...</td>\n",
       "      <td>...</td>\n",
       "      <td>...</td>\n",
       "      <td>...</td>\n",
       "      <td>...</td>\n",
       "      <td>...</td>\n",
       "      <td>...</td>\n",
       "      <td>...</td>\n",
       "      <td>...</td>\n",
       "    </tr>\n",
       "    <tr>\n",
       "      <th>3344706</th>\n",
       "      <td>4739472</td>\n",
       "      <td>2015-04-01 07:48:00</td>\n",
       "      <td>2015-04-01 07:50:00</td>\n",
       "      <td>707</td>\n",
       "      <td>94</td>\n",
       "      <td>314</td>\n",
       "      <td>Ravenswood Ave &amp; Berteau Ave</td>\n",
       "      <td>244</td>\n",
       "      <td>Ravenswood Ave &amp; Irving Park Rd</td>\n",
       "      <td>Subscriber</td>\n",
       "      <td>Male</td>\n",
       "      <td>1990.0</td>\n",
       "      <td>Wednesday</td>\n",
       "      <td>2015</td>\n",
       "      <td>April</td>\n",
       "      <td>Wednesday</td>\n",
       "      <td>2015</td>\n",
       "      <td>April</td>\n",
       "      <td>25.0</td>\n",
       "    </tr>\n",
       "    <tr>\n",
       "      <th>3344869</th>\n",
       "      <td>4739166</td>\n",
       "      <td>2015-04-01 07:28:00</td>\n",
       "      <td>2015-04-01 07:29:00</td>\n",
       "      <td>2436</td>\n",
       "      <td>108</td>\n",
       "      <td>224</td>\n",
       "      <td>Halsted St &amp; Willow St</td>\n",
       "      <td>93</td>\n",
       "      <td>Sheffield Ave &amp; Willow St</td>\n",
       "      <td>Subscriber</td>\n",
       "      <td>Male</td>\n",
       "      <td>1985.0</td>\n",
       "      <td>Wednesday</td>\n",
       "      <td>2015</td>\n",
       "      <td>April</td>\n",
       "      <td>Wednesday</td>\n",
       "      <td>2015</td>\n",
       "      <td>April</td>\n",
       "      <td>30.0</td>\n",
       "    </tr>\n",
       "    <tr>\n",
       "      <th>3344916</th>\n",
       "      <td>4739070</td>\n",
       "      <td>2015-04-01 07:18:00</td>\n",
       "      <td>2015-04-01 07:20:00</td>\n",
       "      <td>1750</td>\n",
       "      <td>92</td>\n",
       "      <td>302</td>\n",
       "      <td>Sheffield Ave &amp; Wrightwood Ave</td>\n",
       "      <td>67</td>\n",
       "      <td>Sheffield Ave &amp; Fullerton Ave</td>\n",
       "      <td>Subscriber</td>\n",
       "      <td>Male</td>\n",
       "      <td>1984.0</td>\n",
       "      <td>Wednesday</td>\n",
       "      <td>2015</td>\n",
       "      <td>April</td>\n",
       "      <td>Wednesday</td>\n",
       "      <td>2015</td>\n",
       "      <td>April</td>\n",
       "      <td>31.0</td>\n",
       "    </tr>\n",
       "    <tr>\n",
       "      <th>3344978</th>\n",
       "      <td>4738944</td>\n",
       "      <td>2015-04-01 07:03:00</td>\n",
       "      <td>2015-04-01 07:05:00</td>\n",
       "      <td>2210</td>\n",
       "      <td>105</td>\n",
       "      <td>254</td>\n",
       "      <td>Pine Grove Ave &amp; Irving Park Rd</td>\n",
       "      <td>256</td>\n",
       "      <td>Broadway &amp; Sheridan Rd</td>\n",
       "      <td>Subscriber</td>\n",
       "      <td>Male</td>\n",
       "      <td>1986.0</td>\n",
       "      <td>Wednesday</td>\n",
       "      <td>2015</td>\n",
       "      <td>April</td>\n",
       "      <td>Wednesday</td>\n",
       "      <td>2015</td>\n",
       "      <td>April</td>\n",
       "      <td>29.0</td>\n",
       "    </tr>\n",
       "    <tr>\n",
       "      <th>3345089</th>\n",
       "      <td>4738756</td>\n",
       "      <td>2015-04-01 06:40:00</td>\n",
       "      <td>2015-04-01 06:41:00</td>\n",
       "      <td>1586</td>\n",
       "      <td>91</td>\n",
       "      <td>302</td>\n",
       "      <td>Sheffield Ave &amp; Wrightwood Ave</td>\n",
       "      <td>67</td>\n",
       "      <td>Sheffield Ave &amp; Fullerton Ave</td>\n",
       "      <td>Subscriber</td>\n",
       "      <td>Male</td>\n",
       "      <td>1982.0</td>\n",
       "      <td>Wednesday</td>\n",
       "      <td>2015</td>\n",
       "      <td>April</td>\n",
       "      <td>Wednesday</td>\n",
       "      <td>2015</td>\n",
       "      <td>April</td>\n",
       "      <td>33.0</td>\n",
       "    </tr>\n",
       "  </tbody>\n",
       "</table>\n",
       "<p>16545 rows × 19 columns</p>\n",
       "</div>"
      ],
      "text/plain": [
       "         trip_id          start_time           stop_time  bikeid  \\\n",
       "309      2885819 2014-07-31 22:44:00 2014-07-31 22:46:00    2881   \n",
       "380      2885729 2014-07-31 22:33:00 2014-07-31 22:34:00    2298   \n",
       "647      2885368 2014-07-31 21:58:00 2014-07-31 21:59:00    2705   \n",
       "955      2884957 2014-07-31 21:20:00 2014-07-31 21:22:00     807   \n",
       "1041     2884852 2014-07-31 21:10:00 2014-07-31 21:12:00    2550   \n",
       "...          ...                 ...                 ...     ...   \n",
       "3344706  4739472 2015-04-01 07:48:00 2015-04-01 07:50:00     707   \n",
       "3344869  4739166 2015-04-01 07:28:00 2015-04-01 07:29:00    2436   \n",
       "3344916  4739070 2015-04-01 07:18:00 2015-04-01 07:20:00    1750   \n",
       "3344978  4738944 2015-04-01 07:03:00 2015-04-01 07:05:00    2210   \n",
       "3345089  4738756 2015-04-01 06:40:00 2015-04-01 06:41:00    1586   \n",
       "\n",
       "         tripduration  from_station_id                from_station_name  \\\n",
       "309               102               68           Clinton St & Tilden St   \n",
       "380                97              337           Clark St & Chicago Ave   \n",
       "647                60              297        Paulina St & Montrose Ave   \n",
       "955               116              123   California Ave & Milwaukee Ave   \n",
       "1041              104              244  Ravenswood Ave & Irving Park Rd   \n",
       "...               ...              ...                              ...   \n",
       "3344706            94              314     Ravenswood Ave & Berteau Ave   \n",
       "3344869           108              224           Halsted St & Willow St   \n",
       "3344916            92              302   Sheffield Ave & Wrightwood Ave   \n",
       "3344978           105              254  Pine Grove Ave & Irving Park Rd   \n",
       "3345089            91              302   Sheffield Ave & Wrightwood Ave   \n",
       "\n",
       "         to_station_id                  to_station_name    usertype  gender  \\\n",
       "309                 75          Canal St & Jackson Blvd  Subscriber    Male   \n",
       "380                140      Dearborn Pkwy & Delaware Pl  Subscriber    Male   \n",
       "647                238    Ravenswood Ave & Montrose Ave  Subscriber  Female   \n",
       "955                222      Milwaukee Ave & Rockwell St  Subscriber  Female   \n",
       "1041               314     Ravenswood Ave & Berteau Ave  Subscriber    Male   \n",
       "...                ...                              ...         ...     ...   \n",
       "3344706            244  Ravenswood Ave & Irving Park Rd  Subscriber    Male   \n",
       "3344869             93        Sheffield Ave & Willow St  Subscriber    Male   \n",
       "3344916             67    Sheffield Ave & Fullerton Ave  Subscriber    Male   \n",
       "3344978            256           Broadway & Sheridan Rd  Subscriber    Male   \n",
       "3345089             67    Sheffield Ave & Fullerton Ave  Subscriber    Male   \n",
       "\n",
       "         birthyear      S_Day S_Year S_Month      E_Day E_Year E_Month   Age  \n",
       "309         1952.0   Thursday   2014    July   Thursday   2014    July  62.0  \n",
       "380         1971.0   Thursday   2014    July   Thursday   2014    July  43.0  \n",
       "647         1975.0   Thursday   2014    July   Thursday   2014    July  39.0  \n",
       "955         1985.0   Thursday   2014    July   Thursday   2014    July  29.0  \n",
       "1041        1974.0   Thursday   2014    July   Thursday   2014    July  40.0  \n",
       "...            ...        ...    ...     ...        ...    ...     ...   ...  \n",
       "3344706     1990.0  Wednesday   2015   April  Wednesday   2015   April  25.0  \n",
       "3344869     1985.0  Wednesday   2015   April  Wednesday   2015   April  30.0  \n",
       "3344916     1984.0  Wednesday   2015   April  Wednesday   2015   April  31.0  \n",
       "3344978     1986.0  Wednesday   2015   April  Wednesday   2015   April  29.0  \n",
       "3345089     1982.0  Wednesday   2015   April  Wednesday   2015   April  33.0  \n",
       "\n",
       "[16545 rows x 19 columns]"
      ]
     },
     "execution_count": 100,
     "metadata": {},
     "output_type": "execute_result"
    }
   ],
   "source": [
    "df[(df.tripduration < 120) & (df.from_station_id != df.to_station_id)]"
   ]
  },
  {
   "cell_type": "markdown",
   "metadata": {},
   "source": [
    "### Very strange tripduration less than 2 mints between different start and end stations I will remove such records "
   ]
  },
  {
   "cell_type": "code",
   "execution_count": 101,
   "metadata": {},
   "outputs": [],
   "source": [
    "df.drop(df[(df.tripduration < 120) & (df.from_station_id != df.to_station_id)].index, inplace = True) "
   ]
  },
  {
   "cell_type": "code",
   "execution_count": 102,
   "metadata": {},
   "outputs": [
    {
     "data": {
      "text/html": [
       "<div>\n",
       "<style scoped>\n",
       "    .dataframe tbody tr th:only-of-type {\n",
       "        vertical-align: middle;\n",
       "    }\n",
       "\n",
       "    .dataframe tbody tr th {\n",
       "        vertical-align: top;\n",
       "    }\n",
       "\n",
       "    .dataframe thead th {\n",
       "        text-align: right;\n",
       "    }\n",
       "</style>\n",
       "<table border=\"1\" class=\"dataframe\">\n",
       "  <thead>\n",
       "    <tr style=\"text-align: right;\">\n",
       "      <th></th>\n",
       "      <th>trip_id</th>\n",
       "      <th>start_time</th>\n",
       "      <th>stop_time</th>\n",
       "      <th>bikeid</th>\n",
       "      <th>tripduration</th>\n",
       "      <th>from_station_id</th>\n",
       "      <th>from_station_name</th>\n",
       "      <th>to_station_id</th>\n",
       "      <th>to_station_name</th>\n",
       "      <th>usertype</th>\n",
       "      <th>gender</th>\n",
       "      <th>birthyear</th>\n",
       "      <th>S_Day</th>\n",
       "      <th>S_Year</th>\n",
       "      <th>S_Month</th>\n",
       "      <th>E_Day</th>\n",
       "      <th>E_Year</th>\n",
       "      <th>E_Month</th>\n",
       "      <th>Age</th>\n",
       "    </tr>\n",
       "  </thead>\n",
       "  <tbody>\n",
       "  </tbody>\n",
       "</table>\n",
       "</div>"
      ],
      "text/plain": [
       "Empty DataFrame\n",
       "Columns: [trip_id, start_time, stop_time, bikeid, tripduration, from_station_id, from_station_name, to_station_id, to_station_name, usertype, gender, birthyear, S_Day, S_Year, S_Month, E_Day, E_Year, E_Month, Age]\n",
       "Index: []"
      ]
     },
     "execution_count": 102,
     "metadata": {},
     "output_type": "execute_result"
    }
   ],
   "source": [
    "df[(df.tripduration < 120) & (df.from_station_id != df.to_station_id)]"
   ]
  },
  {
   "cell_type": "code",
   "execution_count": 103,
   "metadata": {},
   "outputs": [
    {
     "data": {
      "text/plain": [
       "Male      1734251\n",
       "Female     559274\n",
       "Name: gender, dtype: int64"
      ]
     },
     "execution_count": 103,
     "metadata": {},
     "output_type": "execute_result"
    }
   ],
   "source": [
    "df.gender.value_counts()"
   ]
  },
  {
   "cell_type": "code",
   "execution_count": 104,
   "metadata": {},
   "outputs": [
    {
     "data": {
      "image/png": "[encoded data removed]",
      "text/plain": [
       "<Figure size 432x288 with 1 Axes>"
      ]
     },
     "metadata": {
      "needs_background": "light"
     },
     "output_type": "display_data"
    }
   ],
   "source": [
    "plt.bar(list(set(df.gender)),df.gender.value_counts()/df.gender.value_counts().sum());\n",
    "plt.ylabel(\"Percentage of occurrence\");\n",
    "plt.title(\"Gender\")\n",
    "plt.yticks(np.arange(0, 1, step=0.1));"
   ]
  },
  {
   "cell_type": "code",
   "execution_count": 105,
   "metadata": {},
   "outputs": [
    {
     "data": {
      "text/plain": [
       "Text(0.5, 1.0, 'Gender')"
      ]
     },
     "execution_count": 105,
     "metadata": {},
     "output_type": "execute_result"
    },
    {
     "data": {
      "image/png": "[encoded data removed]",
      "text/plain": [
       "<Figure size 432x288 with 1 Axes>"
      ]
     },
     "metadata": {
      "needs_background": "light"
     },
     "output_type": "display_data"
    }
   ],
   "source": [
    "\n",
    "\n",
    "df.groupby(\"gender\")[\"tripduration\"].mean().plot(kind = \"bar\");\n",
    "plt.ylabel(\"Average of Tripduration\");\n",
    "plt.title(\"Gender\")\n",
    "\n",
    "\n"
   ]
  },
  {
   "cell_type": "markdown",
   "metadata": {},
   "source": [
    "### Males uses this service more than Females in this dataset"
   ]
  },
  {
   "cell_type": "code",
   "execution_count": 106,
   "metadata": {},
   "outputs": [
    {
     "data": {
      "text/plain": [
       "Subscriber    2293395\n",
       "Dependent          76\n",
       "Customer           54\n",
       "Name: usertype, dtype: int64"
      ]
     },
     "execution_count": 106,
     "metadata": {},
     "output_type": "execute_result"
    }
   ],
   "source": [
    "df.usertype.value_counts()"
   ]
  },
  {
   "cell_type": "code",
   "execution_count": 107,
   "metadata": {
    "scrolled": true
   },
   "outputs": [
    {
     "data": {
      "image/png": "[encoded data removed]",
      "text/plain": [
       "<Figure size 432x288 with 1 Axes>"
      ]
     },
     "metadata": {
      "needs_background": "light"
     },
     "output_type": "display_data"
    }
   ],
   "source": [
    "\n",
    "plt.bar(list(set(df.usertype)),df.usertype.value_counts()/df.usertype.value_counts().sum());\n",
    "plt.title(\"user type\")\n",
    "plt.ylabel(\"Percentage of occurrence\");\n",
    "plt.yticks(np.arange(0, 1, step=0.1));"
   ]
  },
  {
   "cell_type": "markdown",
   "metadata": {},
   "source": [
    "### Almost all the users are subscriber it seems it was at the begining of the project so i guess it will be better if we used more recent data but i already have more than 3 million records "
   ]
  },
  {
   "cell_type": "code",
   "execution_count": 108,
   "metadata": {},
   "outputs": [
    {
     "data": {
      "image/png": "[encoded data removed]",
      "text/plain": [
       "<Figure size 432x288 with 1 Axes>"
      ]
     },
     "metadata": {
      "needs_background": "light"
     },
     "output_type": "display_data"
    }
   ],
   "source": [
    "plt.hist(df.Age);\n",
    "plt.xlabel(\"Age\");\n",
    "plt.ylabel(\"Number of occurance\");\n",
    "\n",
    "plt.title(\"Histogram for Age\");"
   ]
  },
  {
   "cell_type": "markdown",
   "metadata": {},
   "source": [
    "### Its obvious that most of the clients are at Age of 30 then the 20 and 40 then its getting fewer as clients get older than 40 and no clinets younger than 10 which is logic"
   ]
  },
  {
   "cell_type": "code",
   "execution_count": 109,
   "metadata": {},
   "outputs": [
    {
     "data": {
      "text/plain": [
       "June         471462\n",
       "May          358311\n",
       "August       326835\n",
       "July         250313\n",
       "April        238719\n",
       "October      186671\n",
       "March        143705\n",
       "November     100157\n",
       "January       79143\n",
       "December      77707\n",
       "February      60484\n",
       "September        18\n",
       "Name: E_Month, dtype: int64"
      ]
     },
     "execution_count": 109,
     "metadata": {},
     "output_type": "execute_result"
    }
   ],
   "source": [
    "df.E_Month.value_counts()"
   ]
  },
  {
   "cell_type": "code",
   "execution_count": 110,
   "metadata": {},
   "outputs": [
    {
     "data": {
      "image/png": "[encoded data removed]",
      "text/plain": [
       "<Figure size 432x288 with 1 Axes>"
      ]
     },
     "metadata": {
      "needs_background": "light"
     },
     "output_type": "display_data"
    }
   ],
   "source": [
    "(df.E_Month.value_counts()/df.shape[0]).plot(kind = \"bar\");\n",
    "plt.title(\"bike demand in each month\");\n",
    "plt.ylabel(\"Percentage of occurrence\");"
   ]
  },
  {
   "cell_type": "markdown",
   "metadata": {},
   "source": [
    "### the demand on the bikes tends to increase in the summer more than winter "
   ]
  },
  {
   "cell_type": "code",
   "execution_count": 111,
   "metadata": {},
   "outputs": [
    {
     "data": {
      "text/html": [
       "<div>\n",
       "<style scoped>\n",
       "    .dataframe tbody tr th:only-of-type {\n",
       "        vertical-align: middle;\n",
       "    }\n",
       "\n",
       "    .dataframe tbody tr th {\n",
       "        vertical-align: top;\n",
       "    }\n",
       "\n",
       "    .dataframe thead th {\n",
       "        text-align: right;\n",
       "    }\n",
       "</style>\n",
       "<table border=\"1\" class=\"dataframe\">\n",
       "  <thead>\n",
       "    <tr style=\"text-align: right;\">\n",
       "      <th></th>\n",
       "      <th>trip_id</th>\n",
       "      <th>start_time</th>\n",
       "      <th>stop_time</th>\n",
       "      <th>bikeid</th>\n",
       "      <th>tripduration</th>\n",
       "      <th>from_station_id</th>\n",
       "      <th>from_station_name</th>\n",
       "      <th>to_station_id</th>\n",
       "      <th>to_station_name</th>\n",
       "      <th>usertype</th>\n",
       "      <th>gender</th>\n",
       "      <th>birthyear</th>\n",
       "      <th>S_Day</th>\n",
       "      <th>S_Year</th>\n",
       "      <th>S_Month</th>\n",
       "      <th>E_Day</th>\n",
       "      <th>E_Year</th>\n",
       "      <th>E_Month</th>\n",
       "      <th>Age</th>\n",
       "    </tr>\n",
       "  </thead>\n",
       "  <tbody>\n",
       "    <tr>\n",
       "      <th>1518388</th>\n",
       "      <td>7221407</td>\n",
       "      <td>2015-08-31 23:59:00</td>\n",
       "      <td>2015-09-01 00:03:00</td>\n",
       "      <td>4254</td>\n",
       "      <td>245</td>\n",
       "      <td>241</td>\n",
       "      <td>Morgan St &amp; Polk St</td>\n",
       "      <td>21</td>\n",
       "      <td>Aberdeen St &amp; Jackson Blvd</td>\n",
       "      <td>Subscriber</td>\n",
       "      <td>Male</td>\n",
       "      <td>1988.0</td>\n",
       "      <td>Monday</td>\n",
       "      <td>2015</td>\n",
       "      <td>August</td>\n",
       "      <td>Tuesday</td>\n",
       "      <td>2015</td>\n",
       "      <td>September</td>\n",
       "      <td>27.0</td>\n",
       "    </tr>\n",
       "    <tr>\n",
       "      <th>1518391</th>\n",
       "      <td>7221404</td>\n",
       "      <td>2015-08-31 23:57:00</td>\n",
       "      <td>2015-09-01 00:05:00</td>\n",
       "      <td>3474</td>\n",
       "      <td>465</td>\n",
       "      <td>66</td>\n",
       "      <td>Clinton St &amp; Lake St</td>\n",
       "      <td>110</td>\n",
       "      <td>Dearborn St &amp; Erie St</td>\n",
       "      <td>Subscriber</td>\n",
       "      <td>Male</td>\n",
       "      <td>1985.0</td>\n",
       "      <td>Monday</td>\n",
       "      <td>2015</td>\n",
       "      <td>August</td>\n",
       "      <td>Tuesday</td>\n",
       "      <td>2015</td>\n",
       "      <td>September</td>\n",
       "      <td>30.0</td>\n",
       "    </tr>\n",
       "    <tr>\n",
       "      <th>1518392</th>\n",
       "      <td>7221403</td>\n",
       "      <td>2015-08-31 23:56:00</td>\n",
       "      <td>2015-09-01 00:08:00</td>\n",
       "      <td>1540</td>\n",
       "      <td>716</td>\n",
       "      <td>332</td>\n",
       "      <td>Halsted St &amp; Diversey Pkwy</td>\n",
       "      <td>319</td>\n",
       "      <td>Greenview Ave &amp; Diversey Pkwy</td>\n",
       "      <td>Subscriber</td>\n",
       "      <td>Male</td>\n",
       "      <td>1993.0</td>\n",
       "      <td>Monday</td>\n",
       "      <td>2015</td>\n",
       "      <td>August</td>\n",
       "      <td>Tuesday</td>\n",
       "      <td>2015</td>\n",
       "      <td>September</td>\n",
       "      <td>22.0</td>\n",
       "    </tr>\n",
       "    <tr>\n",
       "      <th>1518395</th>\n",
       "      <td>7221398</td>\n",
       "      <td>2015-08-31 23:55:00</td>\n",
       "      <td>2015-09-01 00:16:00</td>\n",
       "      <td>2607</td>\n",
       "      <td>1268</td>\n",
       "      <td>15</td>\n",
       "      <td>Racine Ave &amp; 18th St</td>\n",
       "      <td>61</td>\n",
       "      <td>Wood St &amp; Milwaukee Ave</td>\n",
       "      <td>Subscriber</td>\n",
       "      <td>Male</td>\n",
       "      <td>1989.0</td>\n",
       "      <td>Monday</td>\n",
       "      <td>2015</td>\n",
       "      <td>August</td>\n",
       "      <td>Tuesday</td>\n",
       "      <td>2015</td>\n",
       "      <td>September</td>\n",
       "      <td>26.0</td>\n",
       "    </tr>\n",
       "    <tr>\n",
       "      <th>1518396</th>\n",
       "      <td>7221397</td>\n",
       "      <td>2015-08-31 23:55:00</td>\n",
       "      <td>2015-09-01 00:00:00</td>\n",
       "      <td>3319</td>\n",
       "      <td>355</td>\n",
       "      <td>284</td>\n",
       "      <td>Michigan Ave &amp; Jackson Blvd</td>\n",
       "      <td>194</td>\n",
       "      <td>Wabash Ave &amp; Wacker Pl</td>\n",
       "      <td>Subscriber</td>\n",
       "      <td>Male</td>\n",
       "      <td>1982.0</td>\n",
       "      <td>Monday</td>\n",
       "      <td>2015</td>\n",
       "      <td>August</td>\n",
       "      <td>Tuesday</td>\n",
       "      <td>2015</td>\n",
       "      <td>September</td>\n",
       "      <td>33.0</td>\n",
       "    </tr>\n",
       "    <tr>\n",
       "      <th>1518397</th>\n",
       "      <td>7221396</td>\n",
       "      <td>2015-08-31 23:54:00</td>\n",
       "      <td>2015-09-01 00:07:00</td>\n",
       "      <td>2159</td>\n",
       "      <td>725</td>\n",
       "      <td>493</td>\n",
       "      <td>Western Ave &amp; Roscoe St</td>\n",
       "      <td>228</td>\n",
       "      <td>Damen Ave &amp; Melrose Ave</td>\n",
       "      <td>Subscriber</td>\n",
       "      <td>Male</td>\n",
       "      <td>1985.0</td>\n",
       "      <td>Monday</td>\n",
       "      <td>2015</td>\n",
       "      <td>August</td>\n",
       "      <td>Tuesday</td>\n",
       "      <td>2015</td>\n",
       "      <td>September</td>\n",
       "      <td>30.0</td>\n",
       "    </tr>\n",
       "    <tr>\n",
       "      <th>1518398</th>\n",
       "      <td>7221395</td>\n",
       "      <td>2015-08-31 23:53:00</td>\n",
       "      <td>2015-09-01 00:04:00</td>\n",
       "      <td>2317</td>\n",
       "      <td>671</td>\n",
       "      <td>294</td>\n",
       "      <td>Broadway &amp; Berwyn Ave</td>\n",
       "      <td>460</td>\n",
       "      <td>Clark St &amp; Bryn Mawr Ave</td>\n",
       "      <td>Subscriber</td>\n",
       "      <td>Male</td>\n",
       "      <td>1982.0</td>\n",
       "      <td>Monday</td>\n",
       "      <td>2015</td>\n",
       "      <td>August</td>\n",
       "      <td>Tuesday</td>\n",
       "      <td>2015</td>\n",
       "      <td>September</td>\n",
       "      <td>33.0</td>\n",
       "    </tr>\n",
       "    <tr>\n",
       "      <th>1518401</th>\n",
       "      <td>7221392</td>\n",
       "      <td>2015-08-31 23:51:00</td>\n",
       "      <td>2015-09-01 00:18:00</td>\n",
       "      <td>702</td>\n",
       "      <td>1626</td>\n",
       "      <td>299</td>\n",
       "      <td>Halsted St &amp; Roscoe St</td>\n",
       "      <td>254</td>\n",
       "      <td>Pine Grove Ave &amp; Irving Park Rd</td>\n",
       "      <td>Subscriber</td>\n",
       "      <td>Male</td>\n",
       "      <td>1981.0</td>\n",
       "      <td>Monday</td>\n",
       "      <td>2015</td>\n",
       "      <td>August</td>\n",
       "      <td>Tuesday</td>\n",
       "      <td>2015</td>\n",
       "      <td>September</td>\n",
       "      <td>34.0</td>\n",
       "    </tr>\n",
       "    <tr>\n",
       "      <th>1518409</th>\n",
       "      <td>7221384</td>\n",
       "      <td>2015-08-31 23:48:00</td>\n",
       "      <td>2015-09-01 00:11:00</td>\n",
       "      <td>3862</td>\n",
       "      <td>1389</td>\n",
       "      <td>174</td>\n",
       "      <td>Canal St &amp; Madison St</td>\n",
       "      <td>226</td>\n",
       "      <td>Racine Ave &amp; Belmont Ave</td>\n",
       "      <td>Subscriber</td>\n",
       "      <td>Female</td>\n",
       "      <td>1985.0</td>\n",
       "      <td>Monday</td>\n",
       "      <td>2015</td>\n",
       "      <td>August</td>\n",
       "      <td>Tuesday</td>\n",
       "      <td>2015</td>\n",
       "      <td>September</td>\n",
       "      <td>30.0</td>\n",
       "    </tr>\n",
       "    <tr>\n",
       "      <th>1518410</th>\n",
       "      <td>7221383</td>\n",
       "      <td>2015-08-31 23:47:00</td>\n",
       "      <td>2015-09-01 00:22:00</td>\n",
       "      <td>3321</td>\n",
       "      <td>2075</td>\n",
       "      <td>15</td>\n",
       "      <td>Racine Ave &amp; 18th St</td>\n",
       "      <td>504</td>\n",
       "      <td>Campbell Ave &amp; Fullerton Ave</td>\n",
       "      <td>Subscriber</td>\n",
       "      <td>Male</td>\n",
       "      <td>1991.0</td>\n",
       "      <td>Monday</td>\n",
       "      <td>2015</td>\n",
       "      <td>August</td>\n",
       "      <td>Tuesday</td>\n",
       "      <td>2015</td>\n",
       "      <td>September</td>\n",
       "      <td>24.0</td>\n",
       "    </tr>\n",
       "    <tr>\n",
       "      <th>1518413</th>\n",
       "      <td>7221379</td>\n",
       "      <td>2015-08-31 23:45:00</td>\n",
       "      <td>2015-09-01 00:02:00</td>\n",
       "      <td>3145</td>\n",
       "      <td>1003</td>\n",
       "      <td>495</td>\n",
       "      <td>Keystone Ave &amp; Montrose Ave</td>\n",
       "      <td>260</td>\n",
       "      <td>Kedzie Ave &amp; Milwaukee Ave</td>\n",
       "      <td>Subscriber</td>\n",
       "      <td>Male</td>\n",
       "      <td>1982.0</td>\n",
       "      <td>Monday</td>\n",
       "      <td>2015</td>\n",
       "      <td>August</td>\n",
       "      <td>Tuesday</td>\n",
       "      <td>2015</td>\n",
       "      <td>September</td>\n",
       "      <td>33.0</td>\n",
       "    </tr>\n",
       "    <tr>\n",
       "      <th>1518420</th>\n",
       "      <td>7221371</td>\n",
       "      <td>2015-08-31 23:41:00</td>\n",
       "      <td>2015-09-01 00:04:00</td>\n",
       "      <td>14</td>\n",
       "      <td>1423</td>\n",
       "      <td>294</td>\n",
       "      <td>Broadway &amp; Berwyn Ave</td>\n",
       "      <td>165</td>\n",
       "      <td>Clark St &amp; Grace St</td>\n",
       "      <td>Subscriber</td>\n",
       "      <td>Male</td>\n",
       "      <td>1980.0</td>\n",
       "      <td>Monday</td>\n",
       "      <td>2015</td>\n",
       "      <td>August</td>\n",
       "      <td>Tuesday</td>\n",
       "      <td>2015</td>\n",
       "      <td>September</td>\n",
       "      <td>35.0</td>\n",
       "    </tr>\n",
       "    <tr>\n",
       "      <th>1518422</th>\n",
       "      <td>7221369</td>\n",
       "      <td>2015-08-31 23:40:00</td>\n",
       "      <td>2015-09-01 00:02:00</td>\n",
       "      <td>4751</td>\n",
       "      <td>1338</td>\n",
       "      <td>478</td>\n",
       "      <td>Rockwell St &amp; Eastwood Ave</td>\n",
       "      <td>153</td>\n",
       "      <td>Southport Ave &amp; Wellington Ave</td>\n",
       "      <td>Subscriber</td>\n",
       "      <td>Male</td>\n",
       "      <td>1980.0</td>\n",
       "      <td>Monday</td>\n",
       "      <td>2015</td>\n",
       "      <td>August</td>\n",
       "      <td>Tuesday</td>\n",
       "      <td>2015</td>\n",
       "      <td>September</td>\n",
       "      <td>35.0</td>\n",
       "    </tr>\n",
       "    <tr>\n",
       "      <th>1518428</th>\n",
       "      <td>7221363</td>\n",
       "      <td>2015-08-31 23:37:00</td>\n",
       "      <td>2015-09-01 00:05:00</td>\n",
       "      <td>3619</td>\n",
       "      <td>1687</td>\n",
       "      <td>331</td>\n",
       "      <td>Halsted St &amp; Blackhawk St</td>\n",
       "      <td>22</td>\n",
       "      <td>May St &amp; Taylor St</td>\n",
       "      <td>Subscriber</td>\n",
       "      <td>Male</td>\n",
       "      <td>1975.0</td>\n",
       "      <td>Monday</td>\n",
       "      <td>2015</td>\n",
       "      <td>August</td>\n",
       "      <td>Tuesday</td>\n",
       "      <td>2015</td>\n",
       "      <td>September</td>\n",
       "      <td>40.0</td>\n",
       "    </tr>\n",
       "    <tr>\n",
       "      <th>1519274</th>\n",
       "      <td>7220241</td>\n",
       "      <td>2015-08-31 21:01:00</td>\n",
       "      <td>2015-09-01 07:04:00</td>\n",
       "      <td>4649</td>\n",
       "      <td>36214</td>\n",
       "      <td>114</td>\n",
       "      <td>Sheffield Ave &amp; Addison St</td>\n",
       "      <td>245</td>\n",
       "      <td>Clarendon Ave &amp; Junior Ter</td>\n",
       "      <td>Subscriber</td>\n",
       "      <td>Male</td>\n",
       "      <td>1969.0</td>\n",
       "      <td>Monday</td>\n",
       "      <td>2015</td>\n",
       "      <td>August</td>\n",
       "      <td>Tuesday</td>\n",
       "      <td>2015</td>\n",
       "      <td>September</td>\n",
       "      <td>46.0</td>\n",
       "    </tr>\n",
       "    <tr>\n",
       "      <th>1521603</th>\n",
       "      <td>7217390</td>\n",
       "      <td>2015-08-31 18:29:00</td>\n",
       "      <td>2015-09-01 05:12:00</td>\n",
       "      <td>3250</td>\n",
       "      <td>38562</td>\n",
       "      <td>17</td>\n",
       "      <td>Wood St &amp; Division St</td>\n",
       "      <td>290</td>\n",
       "      <td>Kedzie Ave &amp; Palmer Ct</td>\n",
       "      <td>Subscriber</td>\n",
       "      <td>Male</td>\n",
       "      <td>1984.0</td>\n",
       "      <td>Monday</td>\n",
       "      <td>2015</td>\n",
       "      <td>August</td>\n",
       "      <td>Tuesday</td>\n",
       "      <td>2015</td>\n",
       "      <td>September</td>\n",
       "      <td>31.0</td>\n",
       "    </tr>\n",
       "    <tr>\n",
       "      <th>1524995</th>\n",
       "      <td>7213424</td>\n",
       "      <td>2015-08-31 16:37:00</td>\n",
       "      <td>2015-09-01 07:09:00</td>\n",
       "      <td>3663</td>\n",
       "      <td>52327</td>\n",
       "      <td>317</td>\n",
       "      <td>Wood St &amp; Taylor St</td>\n",
       "      <td>376</td>\n",
       "      <td>Artesian Ave &amp; Hubbard St</td>\n",
       "      <td>Subscriber</td>\n",
       "      <td>Female</td>\n",
       "      <td>1988.0</td>\n",
       "      <td>Monday</td>\n",
       "      <td>2015</td>\n",
       "      <td>August</td>\n",
       "      <td>Tuesday</td>\n",
       "      <td>2015</td>\n",
       "      <td>September</td>\n",
       "      <td>27.0</td>\n",
       "    </tr>\n",
       "    <tr>\n",
       "      <th>1525213</th>\n",
       "      <td>7213158</td>\n",
       "      <td>2015-08-31 16:27:00</td>\n",
       "      <td>2015-09-01 08:43:00</td>\n",
       "      <td>144</td>\n",
       "      <td>58543</td>\n",
       "      <td>321</td>\n",
       "      <td>Wabash Ave &amp; 8th St</td>\n",
       "      <td>321</td>\n",
       "      <td>Wabash Ave &amp; 8th St</td>\n",
       "      <td>Subscriber</td>\n",
       "      <td>Male</td>\n",
       "      <td>1980.0</td>\n",
       "      <td>Monday</td>\n",
       "      <td>2015</td>\n",
       "      <td>August</td>\n",
       "      <td>Tuesday</td>\n",
       "      <td>2015</td>\n",
       "      <td>September</td>\n",
       "      <td>35.0</td>\n",
       "    </tr>\n",
       "  </tbody>\n",
       "</table>\n",
       "</div>"
      ],
      "text/plain": [
       "         trip_id          start_time           stop_time  bikeid  \\\n",
       "1518388  7221407 2015-08-31 23:59:00 2015-09-01 00:03:00    4254   \n",
       "1518391  7221404 2015-08-31 23:57:00 2015-09-01 00:05:00    3474   \n",
       "1518392  7221403 2015-08-31 23:56:00 2015-09-01 00:08:00    1540   \n",
       "1518395  7221398 2015-08-31 23:55:00 2015-09-01 00:16:00    2607   \n",
       "1518396  7221397 2015-08-31 23:55:00 2015-09-01 00:00:00    3319   \n",
       "1518397  7221396 2015-08-31 23:54:00 2015-09-01 00:07:00    2159   \n",
       "1518398  7221395 2015-08-31 23:53:00 2015-09-01 00:04:00    2317   \n",
       "1518401  7221392 2015-08-31 23:51:00 2015-09-01 00:18:00     702   \n",
       "1518409  7221384 2015-08-31 23:48:00 2015-09-01 00:11:00    3862   \n",
       "1518410  7221383 2015-08-31 23:47:00 2015-09-01 00:22:00    3321   \n",
       "1518413  7221379 2015-08-31 23:45:00 2015-09-01 00:02:00    3145   \n",
       "1518420  7221371 2015-08-31 23:41:00 2015-09-01 00:04:00      14   \n",
       "1518422  7221369 2015-08-31 23:40:00 2015-09-01 00:02:00    4751   \n",
       "1518428  7221363 2015-08-31 23:37:00 2015-09-01 00:05:00    3619   \n",
       "1519274  7220241 2015-08-31 21:01:00 2015-09-01 07:04:00    4649   \n",
       "1521603  7217390 2015-08-31 18:29:00 2015-09-01 05:12:00    3250   \n",
       "1524995  7213424 2015-08-31 16:37:00 2015-09-01 07:09:00    3663   \n",
       "1525213  7213158 2015-08-31 16:27:00 2015-09-01 08:43:00     144   \n",
       "\n",
       "         tripduration  from_station_id            from_station_name  \\\n",
       "1518388           245              241          Morgan St & Polk St   \n",
       "1518391           465               66         Clinton St & Lake St   \n",
       "1518392           716              332   Halsted St & Diversey Pkwy   \n",
       "1518395          1268               15         Racine Ave & 18th St   \n",
       "1518396           355              284  Michigan Ave & Jackson Blvd   \n",
       "1518397           725              493      Western Ave & Roscoe St   \n",
       "1518398           671              294        Broadway & Berwyn Ave   \n",
       "1518401          1626              299       Halsted St & Roscoe St   \n",
       "1518409          1389              174        Canal St & Madison St   \n",
       "1518410          2075               15         Racine Ave & 18th St   \n",
       "1518413          1003              495  Keystone Ave & Montrose Ave   \n",
       "1518420          1423              294        Broadway & Berwyn Ave   \n",
       "1518422          1338              478   Rockwell St & Eastwood Ave   \n",
       "1518428          1687              331    Halsted St & Blackhawk St   \n",
       "1519274         36214              114   Sheffield Ave & Addison St   \n",
       "1521603         38562               17        Wood St & Division St   \n",
       "1524995         52327              317          Wood St & Taylor St   \n",
       "1525213         58543              321          Wabash Ave & 8th St   \n",
       "\n",
       "         to_station_id                  to_station_name    usertype  gender  \\\n",
       "1518388             21       Aberdeen St & Jackson Blvd  Subscriber    Male   \n",
       "1518391            110            Dearborn St & Erie St  Subscriber    Male   \n",
       "1518392            319    Greenview Ave & Diversey Pkwy  Subscriber    Male   \n",
       "1518395             61          Wood St & Milwaukee Ave  Subscriber    Male   \n",
       "1518396            194           Wabash Ave & Wacker Pl  Subscriber    Male   \n",
       "1518397            228          Damen Ave & Melrose Ave  Subscriber    Male   \n",
       "1518398            460         Clark St & Bryn Mawr Ave  Subscriber    Male   \n",
       "1518401            254  Pine Grove Ave & Irving Park Rd  Subscriber    Male   \n",
       "1518409            226         Racine Ave & Belmont Ave  Subscriber  Female   \n",
       "1518410            504     Campbell Ave & Fullerton Ave  Subscriber    Male   \n",
       "1518413            260       Kedzie Ave & Milwaukee Ave  Subscriber    Male   \n",
       "1518420            165              Clark St & Grace St  Subscriber    Male   \n",
       "1518422            153   Southport Ave & Wellington Ave  Subscriber    Male   \n",
       "1518428             22               May St & Taylor St  Subscriber    Male   \n",
       "1519274            245       Clarendon Ave & Junior Ter  Subscriber    Male   \n",
       "1521603            290           Kedzie Ave & Palmer Ct  Subscriber    Male   \n",
       "1524995            376        Artesian Ave & Hubbard St  Subscriber  Female   \n",
       "1525213            321              Wabash Ave & 8th St  Subscriber    Male   \n",
       "\n",
       "         birthyear   S_Day S_Year S_Month    E_Day E_Year    E_Month   Age  \n",
       "1518388     1988.0  Monday   2015  August  Tuesday   2015  September  27.0  \n",
       "1518391     1985.0  Monday   2015  August  Tuesday   2015  September  30.0  \n",
       "1518392     1993.0  Monday   2015  August  Tuesday   2015  September  22.0  \n",
       "1518395     1989.0  Monday   2015  August  Tuesday   2015  September  26.0  \n",
       "1518396     1982.0  Monday   2015  August  Tuesday   2015  September  33.0  \n",
       "1518397     1985.0  Monday   2015  August  Tuesday   2015  September  30.0  \n",
       "1518398     1982.0  Monday   2015  August  Tuesday   2015  September  33.0  \n",
       "1518401     1981.0  Monday   2015  August  Tuesday   2015  September  34.0  \n",
       "1518409     1985.0  Monday   2015  August  Tuesday   2015  September  30.0  \n",
       "1518410     1991.0  Monday   2015  August  Tuesday   2015  September  24.0  \n",
       "1518413     1982.0  Monday   2015  August  Tuesday   2015  September  33.0  \n",
       "1518420     1980.0  Monday   2015  August  Tuesday   2015  September  35.0  \n",
       "1518422     1980.0  Monday   2015  August  Tuesday   2015  September  35.0  \n",
       "1518428     1975.0  Monday   2015  August  Tuesday   2015  September  40.0  \n",
       "1519274     1969.0  Monday   2015  August  Tuesday   2015  September  46.0  \n",
       "1521603     1984.0  Monday   2015  August  Tuesday   2015  September  31.0  \n",
       "1524995     1988.0  Monday   2015  August  Tuesday   2015  September  27.0  \n",
       "1525213     1980.0  Monday   2015  August  Tuesday   2015  September  35.0  "
      ]
     },
     "execution_count": 111,
     "metadata": {},
     "output_type": "execute_result"
    }
   ],
   "source": [
    "df[df.E_Month == \"September\"]"
   ]
  },
  {
   "cell_type": "markdown",
   "metadata": {},
   "source": [
    "> Make sure that, after every plot or related series of plots, that you\n",
    "include a Markdown cell with comments about what you observed, and what\n",
    "you plan on investigating next."
   ]
  },
  {
   "cell_type": "code",
   "execution_count": null,
   "metadata": {},
   "outputs": [],
   "source": []
  },
  {
   "cell_type": "markdown",
   "metadata": {},
   "source": [
    "### Discuss the distribution(s) of your variable(s) of interest. Were there any unusual points? Did you need to perform any transformations?\n",
    "\n",
    "> some records had null values so i had to remove them also some records had tripduration less than 2 mints although start and end stations are different also had to remove them.\n",
    "also in the Age column which i create from the birth year column i found some of the clinets are older than 80 years i removed these records even if its true its not regular thing\n",
    "\n",
    "### Of the features you investigated, were there any unusual distributions? Did you perform any operations on the data to tidy, adjust, or change the form of the data? If so, why did you do this?\n",
    "\n",
    "> most of the variables are logically distriputed just the user type almost all of them of the type Subscriber  "
   ]
  },
  {
   "cell_type": "markdown",
   "metadata": {},
   "source": [
    "## Bivariate Exploration\n",
    "\n",
    "> In this section, investigate relationships between pairs of variables in your\n",
    "data. Make sure the variables that you cover here have been introduced in some\n",
    "fashion in the previous section (univariate exploration)."
   ]
  },
  {
   "cell_type": "code",
   "execution_count": 112,
   "metadata": {},
   "outputs": [
    {
     "data": {
      "text/plain": [
       "91     47892\n",
       "174    40669\n",
       "192    36810\n",
       "287    24924\n",
       "283    24313\n",
       "       ...  \n",
       "392       16\n",
       "400       14\n",
       "391       14\n",
       "395       12\n",
       "440        7\n",
       "Name: to_station_id, Length: 475, dtype: int64"
      ]
     },
     "execution_count": 112,
     "metadata": {},
     "output_type": "execute_result"
    }
   ],
   "source": [
    "df.to_station_id.value_counts()"
   ]
  },
  {
   "cell_type": "code",
   "execution_count": 113,
   "metadata": {},
   "outputs": [
    {
     "data": {
      "text/plain": [
       "E_Month\n",
       "April          710.320339\n",
       "August         760.539101\n",
       "December       610.636352\n",
       "February       693.204897\n",
       "January        635.683181\n",
       "July           764.966702\n",
       "June           765.706680\n",
       "March          678.777565\n",
       "May            757.404855\n",
       "November       628.227513\n",
       "October        678.297443\n",
       "September    11146.222222\n",
       "Name: tripduration, dtype: float64"
      ]
     },
     "execution_count": 113,
     "metadata": {},
     "output_type": "execute_result"
    }
   ],
   "source": [
    "df.groupby(\"E_Month\")[\"tripduration\"].mean()"
   ]
  },
  {
   "cell_type": "markdown",
   "metadata": {},
   "source": [
    "### September has higher tripduration but i guess its because of it has only 18 records\n"
   ]
  },
  {
   "cell_type": "code",
   "execution_count": 114,
   "metadata": {},
   "outputs": [],
   "source": [
    "numeric_vars = [\"tripduration\", \"Age\"]\n",
    "categoric_vars = [\"usertype\", \"gender\", \"S_Day\", \"S_Year\" ,\"S_Year\" ]\n"
   ]
  },
  {
   "cell_type": "code",
   "execution_count": 115,
   "metadata": {},
   "outputs": [
    {
     "data": {
      "image/png": "[encoded data removed]",
      "text/plain": [
       "<Figure size 576x360 with 2 Axes>"
      ]
     },
     "metadata": {
      "needs_background": "light"
     },
     "output_type": "display_data"
    }
   ],
   "source": [
    "# correlation plot\n",
    "plt.figure(figsize = [8, 5])\n",
    "sb.heatmap(df[numeric_vars].corr(), annot = True, fmt = '.3f',\n",
    "           cmap = 'vlag_r', center = 0)\n",
    "plt.show()"
   ]
  },
  {
   "cell_type": "code",
   "execution_count": 116,
   "metadata": {
    "scrolled": true
   },
   "outputs": [
    {
     "data": {
      "image/png": "[encoded data removed]",
      "text/plain": [
       "<Figure size 432x288 with 1 Axes>"
      ]
     },
     "metadata": {
      "needs_background": "light"
     },
     "output_type": "display_data"
    }
   ],
   "source": [
    "\n",
    "plt.scatter(df.Age, df.tripduration, alpha = 0.25, marker = '.' );\n",
    "plt.xlabel(\"Age\");\n",
    "plt.ylabel(\"Tripduration\");\n"
   ]
  },
  {
   "cell_type": "markdown",
   "metadata": {},
   "source": [
    "## Most of the trip durations are less than 20000 seconds which is 5.5 hours "
   ]
  },
  {
   "cell_type": "code",
   "execution_count": 117,
   "metadata": {},
   "outputs": [],
   "source": [
    "\n",
    "\n",
    "Age_labels = [\"0 to 20\",\"20 to 30\",\"30 to 40\",\"40 to 50\",\"50 to 60\",\"60 to 70\",\"70 to 80\"]\n",
    "def trip_duration_with_age_calc(df):\n",
    "    age_ranges = [(0,20),(20,30),(30,40),(40,50),(50,60),(60,70),(70,80)]\n",
    "    av_trip_duration_all = []\n",
    "    av_trip_duration_male = []\n",
    "    av_trip_duration_female = []\n",
    "    for r in age_ranges:\n",
    "        av_trip_duration_all.append(df[(df.Age > r[0]) & (df.Age < r[1])].tripduration.mean())\n",
    "        av_trip_duration_male.append(df[(df.Age > r[0]) & (df.Age < r[1]) & (df.gender == \"Male\" )].tripduration.mean())\n",
    "        av_trip_duration_female.append(df[(df.Age > r[0]) & (df.Age < r[1])& (df.gender == \"Female\" )].tripduration.mean())\n",
    "    \n",
    "    return av_trip_duration_all, av_trip_duration_male, av_trip_duration_female   \n",
    "\n"
   ]
  },
  {
   "cell_type": "code",
   "execution_count": 118,
   "metadata": {},
   "outputs": [
    {
     "data": {
      "image/png": "[encoded data removed]",
      "text/plain": [
       "<Figure size 432x288 with 1 Axes>"
      ]
     },
     "metadata": {
      "needs_background": "light"
     },
     "output_type": "display_data"
    }
   ],
   "source": [
    "av_trip_duration_all, av_trip_duration_male, av_trip_duration_female  = trip_duration_with_age_calc(df)\n",
    "plt.bar(range(len(av_trip_duration_all)),av_trip_duration_all,tick_label = Age_labels)\n",
    "\n",
    "plt.ylabel(\"Tripduration\");\n",
    "plt.xticks(rotation = 50);\n",
    "\n"
   ]
  },
  {
   "cell_type": "code",
   "execution_count": 119,
   "metadata": {
    "scrolled": true
   },
   "outputs": [
    {
     "data": {
      "image/png": "[encoded data removed]",
      "text/plain": [
       "<Figure size 432x288 with 1 Axes>"
      ]
     },
     "metadata": {
      "needs_background": "light"
     },
     "output_type": "display_data"
    }
   ],
   "source": [
    "df.groupby(\"S_Day\")[\"tripduration\"].mean().plot(kind = \"bar\");\n",
    "\n",
    "plt.title(\"Average trip duration for each day\");\n",
    "plt.ylabel(\"Trip duration\");"
   ]
  },
  {
   "cell_type": "markdown",
   "metadata": {},
   "source": [
    "### average of trip duration is heigher in weekends and in the age group between 70 and 80 "
   ]
  },
  {
   "cell_type": "code",
   "execution_count": 120,
   "metadata": {},
   "outputs": [],
   "source": [
    "df[\"from_to_id\"] = \"From \" + df[\"from_station_id\"].astype(str) + \" To \" + df[\"to_station_id\"].astype(str)"
   ]
  },
  {
   "cell_type": "code",
   "execution_count": 121,
   "metadata": {},
   "outputs": [
    {
     "data": {
      "text/plain": [
       "From 283 To 174    2907\n",
       "From 195 To 91     2385\n",
       "From 195 To 174    2205\n",
       "From 49 To 174     2144\n",
       "From 43 To 174     2111\n",
       "                   ... \n",
       "From 5 To 459         1\n",
       "From 103 To 202       1\n",
       "From 492 To 283       1\n",
       "From 256 To 110       1\n",
       "From 61 To 491        1\n",
       "Name: from_to_id, Length: 73415, dtype: int64"
      ]
     },
     "execution_count": 121,
     "metadata": {},
     "output_type": "execute_result"
    }
   ],
   "source": [
    "df.from_to_id.value_counts()"
   ]
  },
  {
   "cell_type": "code",
   "execution_count": 122,
   "metadata": {},
   "outputs": [],
   "source": [
    "t = []\n",
    "\n",
    "all_start_station_ids = sorted(df.from_station_id.unique())\n",
    "for x in all_start_station_ids :\n",
    "    t.append(df[df.from_station_id == x].tripduration.sum()) \n",
    "total_duration = pd.Series(t)"
   ]
  },
  {
   "cell_type": "code",
   "execution_count": 123,
   "metadata": {},
   "outputs": [
    {
     "data": {
      "image/png": "[encoded data removed]",
      "text/plain": [
       "<Figure size 1440x576 with 1 Axes>"
      ]
     },
     "metadata": {
      "needs_background": "light"
     },
     "output_type": "display_data"
    }
   ],
   "source": [
    "plt.figure(figsize = [20, 8]);\n",
    "sb.lineplot(x = df['from_station_id'], y = total_duration);\n",
    "plt.xlabel('Start Station');\n",
    "plt.ylabel('Total Duration');\n"
   ]
  },
  {
   "cell_type": "markdown",
   "metadata": {},
   "source": [
    "### Talk about some of the relationships you observed in this part of the investigation. How did the feature(s) of interest vary with other features in the dataset?\n",
    "\n",
    "> the average of tripduration is higher in clinets between 70 and 80 years old and in less than 20 years\n",
    "\n",
    "### Did you observe any interesting relationships between the other features (not the main feature(s) of interest)?\n",
    "\n",
    "> the average of trip duration is higher in females than males"
   ]
  },
  {
   "cell_type": "markdown",
   "metadata": {},
   "source": [
    "## Multivariate Exploration\n",
    "\n",
    "> Create plots of three or more variables to investigate your data even\n",
    "further. Make sure that your investigations are justified, and follow from\n",
    "your work in the previous sections."
   ]
  },
  {
   "cell_type": "code",
   "execution_count": 124,
   "metadata": {},
   "outputs": [
    {
     "data": {
      "image/png": "[encoded data removed]",
      "text/plain": [
       "<Figure size 432x288 with 1 Axes>"
      ]
     },
     "metadata": {
      "needs_background": "light"
     },
     "output_type": "display_data"
    }
   ],
   "source": [
    "av_trip_duration_all, av_trip_duration_male, av_trip_duration_female  = trip_duration_with_age_calc(df)\n",
    "\n",
    "x = np.arange(len(Age_labels))  # the label locations\n",
    "width = 0.35\n",
    "\n",
    "av_trip_duration_all = []\n",
    "\n",
    "# max_y = max(max(av_trip_duration_male/df_male.sum()),max(df_female/df_female.sum()))*1.2\n",
    "# y = np.arange(0,0.2,step = 0.02)\n",
    "fig, ax = plt.subplots()\n",
    "rects1 = ax.bar(x - width/2, av_trip_duration_male, width, label='Men')\n",
    "rects2 = ax.bar(x + width/2, av_trip_duration_female, width, label='Women')\n",
    "\n",
    "ax.set_ylabel('tripduration')\n",
    "ax.set_xlabel('Age')\n",
    "ax.set_title('average trip duration with gender')\n",
    "ax.set_xticks(x)\n",
    "# ax.set_yticks(y)\n",
    "ax.set_xticklabels(Age_labels)\n",
    "ax.legend()\n",
    "\n",
    "plt.xticks(rotation = 50);\n",
    "\n",
    "fig.tight_layout()"
   ]
  },
  {
   "cell_type": "markdown",
   "metadata": {},
   "source": [
    "### the average of trip duration is higher in females than males and both males and females in the age group between 70 and 80 having the highest trip duration "
   ]
  },
  {
   "cell_type": "code",
   "execution_count": 125,
   "metadata": {},
   "outputs": [
    {
     "data": {
      "text/plain": [
       "Wednesday    375594\n",
       "Thursday     375457\n",
       "Tuesday      372178\n",
       "Friday       351960\n",
       "Monday       351201\n",
       "Saturday     248431\n",
       "Sunday       218704\n",
       "Name: S_Day, dtype: int64"
      ]
     },
     "execution_count": 125,
     "metadata": {},
     "output_type": "execute_result"
    }
   ],
   "source": [
    "df.S_Day.value_counts()"
   ]
  },
  {
   "cell_type": "code",
   "execution_count": 127,
   "metadata": {},
   "outputs": [],
   "source": [
    "def groupby_days_with_tripduration_mean(df):\n",
    "    df_female = df[df.gender == \"Female\"]\n",
    "    df_male = df[df.gender == \"Male\"]\n",
    "    df_female = df_female.groupby(\"S_Day\")[\"tripduration\"].mean()\n",
    "    df_male = df_male.groupby(\"S_Day\")[\"tripduration\"].mean()\n",
    "    return df_female, df_male\n",
    "    "
   ]
  },
  {
   "cell_type": "code",
   "execution_count": 128,
   "metadata": {},
   "outputs": [
    {
     "data": {
      "image/png": "[encoded data removed]",
      "text/plain": [
       "<Figure size 432x288 with 1 Axes>"
      ]
     },
     "metadata": {
      "needs_background": "light"
     },
     "output_type": "display_data"
    }
   ],
   "source": [
    "df_female, df_male = groupby_days_with_tripduration_mean(df)\n",
    "\n",
    "labels = df_male.keys()\n",
    "x = np.arange(len(labels))  # the label locations\n",
    "width = 0.35\n",
    "max_y = max(max(df_male),max(df_female))*1.2\n",
    "# y = np.arange(0,max_y,step = 0.02)\n",
    "fig, ax = plt.subplots()\n",
    "rects1 = ax.bar(x - width/2, df_male, width, label='Men')\n",
    "rects2 = ax.bar(x + width/2, df_female, width, label='Women')\n",
    "\n",
    "ax.set_ylabel('tripduration')\n",
    "ax.set_title('average trip duration with gender')\n",
    "ax.set_xticks(x)\n",
    "# ax.set_yticks(y)\n",
    "ax.set_xticklabels(labels)\n",
    "ax.legend()\n",
    "\n",
    "plt.xticks(rotation = 50);\n",
    "\n",
    "fig.tight_layout()"
   ]
  },
  {
   "cell_type": "markdown",
   "metadata": {},
   "source": [
    "### Weekend has the highest average in the trip duration for both males and females   "
   ]
  },
  {
   "cell_type": "code",
   "execution_count": 117,
   "metadata": {},
   "outputs": [
    {
     "data": {
      "image/png": "[encoded data removed]",
      "text/plain": [
       "<Figure size 432x288 with 1 Axes>"
      ]
     },
     "metadata": {
      "needs_background": "light"
     },
     "output_type": "display_data"
    }
   ],
   "source": [
    "tmp_df = df[(df.S_Day == \"Saturday\") | (df.S_Day == \"Sunday\")] \n",
    "av_trip_duration_all, av_trip_duration_male, av_trip_duration_female  = trip_duration_with_age_calc(tmp_df)\n",
    "\n",
    "x = np.arange(len(Age_labels))  # the label locations\n",
    "width = 0.35\n",
    "\n",
    "av_trip_duration_all = []\n",
    "\n",
    "# max_y = max(max(av_trip_duration_male/df_male.sum()),max(df_female/df_female.sum()))*1.2\n",
    "# y = np.arange(0,0.2,step = 0.02)\n",
    "fig, ax = plt.subplots()\n",
    "rects1 = ax.bar(x - width/2, av_trip_duration_male, width, label='Men')\n",
    "rects2 = ax.bar(x + width/2, av_trip_duration_female, width, label='Women')\n",
    "\n",
    "ax.set_ylabel('tripduration')\n",
    "ax.set_xlabel('Age')\n",
    "ax.set_title('average trip duration with gender in weeeknds only')\n",
    "ax.set_xticks(x)\n",
    "# ax.set_yticks(y)\n",
    "ax.set_xticklabels(Age_labels)\n",
    "ax.legend()\n",
    "\n",
    "plt.xticks(rotation = 50);\n",
    "\n",
    "fig.tight_layout()"
   ]
  },
  {
   "cell_type": "code",
   "execution_count": 118,
   "metadata": {
    "scrolled": true
   },
   "outputs": [
    {
     "data": {
      "image/png": "[encoded data removed]",
      "text/plain": [
       "<Figure size 432x288 with 1 Axes>"
      ]
     },
     "metadata": {
      "needs_background": "light"
     },
     "output_type": "display_data"
    }
   ],
   "source": [
    "df_female, df_male = groupby_days_with_tripduration_mean(tmp_df)\n",
    "\n",
    "\n",
    "labels = df_male.keys()\n",
    "x = np.arange(len(labels))  # the label locations\n",
    "width = 0.35\n",
    "max_y = max(max(df_male),max(df_female))*1.4\n",
    "y = np.arange(0,max_y,step = 100)\n",
    "fig, ax = plt.subplots()\n",
    "rects1 = ax.bar(x - width/2, df_male, width, label='Men')\n",
    "rects2 = ax.bar(x + width/2, df_female, width, label='Women')\n",
    "\n",
    "ax.set_ylabel('tripduration')\n",
    "ax.set_title('average trip duration with gender')\n",
    "ax.set_xticks(x)\n",
    "ax.set_yticks(y)\n",
    "ax.set_xticklabels(labels)\n",
    "ax.legend()\n",
    "\n",
    "plt.xticks(rotation = 50);\n",
    "\n",
    "fig.tight_layout()"
   ]
  },
  {
   "cell_type": "markdown",
   "metadata": {},
   "source": [
    "### The femails dominant the average trip duration specially in the age range between 70 and 80"
   ]
  },
  {
   "cell_type": "code",
   "execution_count": 119,
   "metadata": {},
   "outputs": [
    {
     "data": {
      "image/png": "[encoded data removed]",
      "text/plain": [
       "<Figure size 432x288 with 1 Axes>"
      ]
     },
     "metadata": {
      "needs_background": "light"
     },
     "output_type": "display_data"
    }
   ],
   "source": [
    "tmp_df_male = df[df.gender == \"Male\"]\n",
    "tmp_df_female = df[df.gender == \"Female\"]\n",
    "\n",
    "fig, ax = plt.subplots()\n",
    "\n",
    "fg1 = ax.scatter(tmp_df_male.Age, tmp_df_male.tripduration, alpha = 0.25, marker = 'o' ,label='Men');\n",
    "fg2 = ax.scatter(tmp_df_female.Age, tmp_df_female.tripduration, alpha = 0.25, marker = 'x' ,label='Women');\n",
    "ax.set_xlabel(\"Age\");\n",
    "ax.set_ylabel(\"Tripduration\");\n",
    "\n",
    "ax.legend();\n"
   ]
  },
  {
   "cell_type": "code",
   "execution_count": 120,
   "metadata": {},
   "outputs": [],
   "source": [
    "df.to_csv(\"all_files_compined_after_cleaning.csv\",index=False,encoding= \"utf-8-sig\")"
   ]
  },
  {
   "cell_type": "markdown",
   "metadata": {},
   "source": [
    "### Talk about some of the relationships you observed in this part of the investigation. Were there features that strengthened each other in terms of looking at your feature(s) of interest?\n",
    "\n",
    "> weekends have the highest trip duration, Females trips are most of the time below 20000 seconds \n",
    "\n",
    "### Were there any interesting or surprising interactions between features?\n",
    "\n",
    "> Although females numbers are less than males and most of females trips are less than 20000 but the average trip duration for females are higher than males "
   ]
  },
  {
   "cell_type": "markdown",
   "metadata": {},
   "source": [
    "> At the end of your report, make sure that you export the notebook as an\n",
    "html file from the `File > Download as... > HTML` menu. Make sure you keep\n",
    "track of where the exported file goes, so you can put it in the same folder\n",
    "as this notebook for project submission. Also, make sure you remove all of\n",
    "the quote-formatted guide notes like this one before you finish your report!"
   ]
  },
  {
   "cell_type": "code",
   "execution_count": null,
   "metadata": {},
   "outputs": [],
   "source": []
  }
 ],
 "metadata": {
  "kernelspec": {
   "display_name": "Python 3",
   "language": "python",
   "name": "python3"
  },
  "language_info": {
   "codemirror_mode": {
    "name": "ipython",
    "version": 3
   },
   "file_extension": ".py",
   "mimetype": "text/x-python",
   "name": "python",
   "nbconvert_exporter": "python",
   "pygments_lexer": "ipython3",
   "version": "3.8.5"
  }
 },
 "nbformat": 4,
 "nbformat_minor": 2
}
